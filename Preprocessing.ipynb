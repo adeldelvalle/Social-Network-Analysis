{
 "cells": [
  {
   "cell_type": "markdown",
   "id": "54db2267",
   "metadata": {
    "toc": true
   },
   "source": [
    "<h1>Table of Contents<span class=\"tocSkip\"></span></h1>\n",
    "<div class=\"toc\"><ul class=\"toc-item\"><li><span><a href=\"#Libraries\" data-toc-modified-id=\"Libraries-1\"><span class=\"toc-item-num\">1&nbsp;&nbsp;</span>Libraries</a></span></li><li><span><a href=\"#Data-Preprocessing\" data-toc-modified-id=\"Data-Preprocessing-2\"><span class=\"toc-item-num\">2&nbsp;&nbsp;</span>Data Preprocessing</a></span></li><li><span><a href=\"#Extracting-tweets-from-SQL-database\" data-toc-modified-id=\"Extracting-tweets-from-SQL-database-3\"><span class=\"toc-item-num\">3&nbsp;&nbsp;</span>Extracting tweets from SQL database</a></span><ul class=\"toc-item\"><li><ul class=\"toc-item\"><li><span><a href=\"#Word2vec\" data-toc-modified-id=\"Word2vec-3.0.1\"><span class=\"toc-item-num\">3.0.1&nbsp;&nbsp;</span>Word2vec</a></span></li></ul></li></ul></li><li><span><a href=\"#Topic-Modeling\" data-toc-modified-id=\"Topic-Modeling-4\"><span class=\"toc-item-num\">4&nbsp;&nbsp;</span>Topic Modeling</a></span></li></ul></div>"
   ]
  },
  {
   "cell_type": "markdown",
   "id": "487b6929",
   "metadata": {},
   "source": [
    "# Libraries \n",
    "\n",
    "    The following Libraries were used in the development of this project:"
   ]
  },
  {
   "cell_type": "code",
   "execution_count": 1,
   "id": "17cc9049",
   "metadata": {},
   "outputs": [
    {
     "name": "stdout",
     "output_type": "stream",
     "text": [
      "INFO:tensorflow:Enabling eager execution\n",
      "INFO:tensorflow:Enabling v2 tensorshape\n",
      "INFO:tensorflow:Enabling resource variables\n",
      "INFO:tensorflow:Enabling tensor equality\n",
      "INFO:tensorflow:Enabling control flow v2\n"
     ]
    }
   ],
   "source": [
    "import pandas as pd\n",
    "import numpy as np\n",
    "import matplotlib.pyplot as plt\n",
    "import seaborn as sns\n",
    "import re\n",
    "import spacy\n",
    "import nltk\n",
    "import pyodbc\n",
    "from nltk.tokenize import RegexpTokenizer, WhitespaceTokenizer\n",
    "from nltk.stem import WordNetLemmatizer\n",
    "from nltk.corpus import stopwords\n",
    "import string\n",
    "from string import punctuation\n",
    "import collections\n",
    "from collections import Counter\n",
    "import json \n",
    "\n",
    "import warnings\n",
    "warnings.filterwarnings(\"ignore\")\n"
   ]
  },
  {
   "cell_type": "markdown",
   "id": "a15e13af",
   "metadata": {},
   "source": [
    "# Data Preprocessing\n",
    "\n",
    "The data preprocessing consist of different stages:"
   ]
  },
  {
   "cell_type": "code",
   "execution_count": 22,
   "id": "5cfcbb53",
   "metadata": {},
   "outputs": [
    {
     "name": "stderr",
     "output_type": "stream",
     "text": [
      "/usr/local/lib/python3.9/site-packages/ipykernel/ipkernel.py:283: DeprecationWarning: `should_run_async` will not call `transform_cell` automatically in the future. Please pass the result to `transformed_cell` argument and any exception that happen during thetransform in `preprocessing_exc_tuple` in IPython 7.17 and above.\n",
      "  and should_run_async(code)\n"
     ]
    }
   ],
   "source": [
    "import nltk \n",
    "\n",
    "\n",
    "'''Natural Language Processing libraries'''\n",
    "import nltk \n",
    "import gensim\n",
    "import regex as re\n",
    "import spacy\n",
    "from spacy.lang.en import English\n",
    "from nltk.tokenize import word_tokenize \n",
    "from nltk.corpus import stopwords\n",
    "from gensim.models import Word2Vec\n",
    "import gensim.downloader as api\n",
    "import re, string, unicodedata\n",
    "from nltk.stem import LancasterStemmer, WordNetLemmatizer\n",
    "from nltk import sent_tokenize, word_tokenize\n",
    "from gensim.models import FastText\n",
    "from gensim.models import Word2Vec\n",
    "\n",
    "\n",
    "\n",
    "class Document:\n",
    "    \"\"\" Retrieve the narratives from the DataFrame and respectively\n",
    "        store and pre-process it. \n",
    "        \n",
    "        :param df: DataFrame including the reports and the predictor variable. \n",
    "        \n",
    "        \n",
    "        :ivar data: Stores the DataFrame.\n",
    "        :ivar text: Stores the narratives as string.\n",
    "        :ivar corpus: Stores the pre-processed text.\n",
    "    \"\"\"\n",
    "    \n",
    "    \n",
    "    def __init__(self, df):\n",
    "        self.data = df\n",
    "        self.text = df[\"text\"].astype(str)\n",
    "        self.textPreProcessing()\n",
    "        \n",
    "        \n",
    "    def remove_non_ascii(self, words):\n",
    "        \"\"\"Remove non-ASCII characters from list of tokenized words\n",
    "        \n",
    "        :param words:  List of words to be transformed when removing non_ascii characters.\n",
    "        \n",
    "        :return new_words: List of words after the transformation of removed non_ascii characters.\n",
    "        \n",
    "        \"\"\"\n",
    "        new_words = []\n",
    "        for word in words:\n",
    "            new_word = unicodedata.normalize('NFKD', word).encode('ascii', 'ignore').decode('utf-8', 'ignore')\n",
    "            new_words.append(new_word)\n",
    "        return new_words\n",
    "\n",
    "\n",
    "    def remove_punctuation(self, words):\n",
    "        \"\"\"Remove punctuation from list of tokenized words\n",
    "        \n",
    "        :param words:  List of words that will get remove their punctuations, if any. \n",
    "        \n",
    "        :return new_words: List of transformed words.\n",
    "        \n",
    "        \n",
    "        \"\"\"\n",
    "        new_words = []\n",
    "        for word in words:\n",
    "            new_word = re.sub(r'[^\\w\\s]', '', word)\n",
    "            if new_word != '':\n",
    "                new_words.append(new_word)\n",
    "        return new_words\n",
    "\n",
    "\n",
    "    def stem_words(self, words):\n",
    "        \"\"\"Stem words in list of tokenized words\n",
    "        \n",
    "        :param words:  List of words to be processed. \n",
    "        \n",
    "        :return new_words: List of the received words respective stems.\n",
    "        \n",
    "        \n",
    "        \"\"\"\n",
    "        \n",
    "        stemmer = LancasterStemmer()\n",
    "        stems = []\n",
    "        for word in words:\n",
    "            stem = stemmer.stem(word)\n",
    "            stems.append(stem)\n",
    "        return stems\n",
    "    \n",
    "    def lemmatize_verbs(self, words):\n",
    "        \"\"\"Lemmatize verbs in list of tokenized words\n",
    "        \n",
    "        :param words:  List of words to be processed. \n",
    "        \n",
    "        :return new_words: List of the received words respective lemmas.\n",
    "        \n",
    "        \"\"\"\n",
    "        \n",
    "        lemmatizer = WordNetLemmatizer()\n",
    "        lemmas = []\n",
    "        for word in words:\n",
    "            lemma = lemmatizer.lemmatize(word, pos='v')\n",
    "            lemmas.append(lemma)\n",
    "        return lemmas\n",
    "    \n",
    "    \n",
    "    \n",
    "    def remove_stopwords(self, words):\n",
    "        \"\"\"Remove common words that have no meaning or importance in the sentence.\n",
    "\n",
    "        :param words:  List of words to be processed and get stop words removed.. \n",
    "\n",
    "        :return new_words: List of words with the stop words already removed.\"\"\"\n",
    "            \n",
    "        \n",
    "        stop_words = set(stopwords.words('spanish')) \n",
    "        stop_words1 = set(stopwords.words('english')) \n",
    "\n",
    "\n",
    "        \n",
    "        for word in stop_words:\n",
    "            if word in words:\n",
    "                words.remove(word)\n",
    "                \n",
    "        for word in stop_words1:\n",
    "            if word in words:\n",
    "                words.remove(word)\n",
    "                \n",
    "        return words\n",
    "\n",
    "\n",
    "    \n",
    "    def normalize(self, words):\n",
    "        words = self.remove_non_ascii(words)\n",
    "        words = self.remove_stopwords(words)\n",
    "        words = self.remove_punctuation(words)\n",
    "        words = self.lemmatize_verbs(words)\n",
    "        return words\n",
    "    \n",
    "    \n",
    "    def textPreProcessing(self):\n",
    "        \"\"\"Pre-process the text, normalize and clean it.\n",
    "        The function stores the cleaned text in the self.data\n",
    "        attribute. \"\"\"\n",
    "        p.set_options(p.OPT.URL,p.OPT.MENTION,p.OPT.HASHTAG,p.OPT.RESERVED,p.OPT.SMILEY,p.OPT.NUMBER)\n",
    "\n",
    "\n",
    "        clean_text = []\n",
    "\n",
    "        for narrative in self.text:\n",
    "            sentence = p.clean(narrative)\n",
    "            #sentence = re.sub('RT @[\\w_]+:', '', sentence)\n",
    "\n",
    "            #sentence = re.sub(r'https?:\\/\\/.*[\\r\\n]*', '', sentence)\n",
    "            sentence = word_tokenize(sentence)\n",
    "            sentence = self.normalize(sentence)\n",
    "                \n",
    "                \n",
    "            clean_text.append(sentence)\n",
    "            \n",
    "            \n",
    "                    \n",
    "        print(len(self.text), len(clean_text))\n",
    "        self.data[\"clean_text\"] = clean_text"
   ]
  },
  {
   "cell_type": "code",
   "execution_count": 3,
   "id": "2a82af12",
   "metadata": {},
   "outputs": [],
   "source": [
    "def concatTweets(table):\n",
    "    tweets = ''\n",
    "    c = 0\n",
    "    for row in df.tweets:\n",
    "        if(c == 0):\n",
    "            c+= 1\n",
    "            tweets = pd.DataFrame(json.loads(row))\n",
    "        else:\n",
    "            tweets = pd.concat([tweets, pd.DataFrame(json.loads(row))], axis=0, ignore_index=True)\n",
    "    \n",
    "    \n",
    "    return tweets "
   ]
  },
  {
   "cell_type": "markdown",
   "id": "d71450e1",
   "metadata": {},
   "source": [
    "# Extracting tweets from SQL database"
   ]
  },
  {
   "cell_type": "code",
   "execution_count": 5,
   "id": "508865ac",
   "metadata": {},
   "outputs": [],
   "source": [
    "server = 'sqldatamining.database.windows.net'\n",
    "database = 'SNA'\n",
    "username = 'UserAdmin'\n",
    "password = 'Machomen123'   \n",
    "driver= '{ODBC Driver 17 for SQL Server}'\n",
    "\n",
    "cnxn = pyodbc.connect('DRIVER={ODBC Driver 17 for SQL Server};SERVER=sqldatamining.database.windows.net,1433', user='UserAdmin' , password='Machomen123', database='SNA')\n",
    "\n",
    "\n"
   ]
  },
  {
   "cell_type": "code",
   "execution_count": 6,
   "id": "374a95fd",
   "metadata": {},
   "outputs": [],
   "source": [
    "cursor = cnxn.cursor()"
   ]
  },
  {
   "cell_type": "code",
   "execution_count": 118,
   "id": "6a490d27",
   "metadata": {},
   "outputs": [
    {
     "name": "stderr",
     "output_type": "stream",
     "text": [
      "/usr/local/lib/python3.9/site-packages/ipykernel/ipkernel.py:283: DeprecationWarning: `should_run_async` will not call `transform_cell` automatically in the future. Please pass the result to `transformed_cell` argument and any exception that happen during thetransform in `preprocessing_exc_tuple` in IPython 7.17 and above.\n",
      "  and should_run_async(code)\n"
     ]
    }
   ],
   "source": [
    "rows = cursor.execute(\"SELECT * from dbo.Users1 \").fetchmany(40)"
   ]
  },
  {
   "cell_type": "code",
   "execution_count": 119,
   "id": "a08d88c1",
   "metadata": {},
   "outputs": [
    {
     "name": "stderr",
     "output_type": "stream",
     "text": [
      "/usr/local/lib/python3.9/site-packages/ipykernel/ipkernel.py:283: DeprecationWarning: `should_run_async` will not call `transform_cell` automatically in the future. Please pass the result to `transformed_cell` argument and any exception that happen during thetransform in `preprocessing_exc_tuple` in IPython 7.17 and above.\n",
      "  and should_run_async(code)\n"
     ]
    }
   ],
   "source": [
    "df = pd.DataFrame((tuple(t) for t in rows), columns=['id', \n",
    " 'author',\n",
    " 'created_at',\n",
    " 'location',\n",
    " 'description',\n",
    " 'verified',\n",
    " 'followers',\n",
    " 'following',\n",
    " 'favourites_count',\n",
    " 'statuses_count',\n",
    " 'lang',\n",
    " 'tweets',\n",
    " 'following_json',\n",
    " 'followers_json']) \n"
   ]
  },
  {
   "cell_type": "code",
   "execution_count": 99,
   "id": "3dfbb84a",
   "metadata": {},
   "outputs": [
    {
     "name": "stderr",
     "output_type": "stream",
     "text": [
      "/usr/local/lib/python3.9/site-packages/ipykernel/ipkernel.py:283: DeprecationWarning: `should_run_async` will not call `transform_cell` automatically in the future. Please pass the result to `transformed_cell` argument and any exception that happen during thetransform in `preprocessing_exc_tuple` in IPython 7.17 and above.\n",
      "  and should_run_async(code)\n"
     ]
    },
    {
     "data": {
      "text/html": [
       "<div>\n",
       "<style scoped>\n",
       "    .dataframe tbody tr th:only-of-type {\n",
       "        vertical-align: middle;\n",
       "    }\n",
       "\n",
       "    .dataframe tbody tr th {\n",
       "        vertical-align: top;\n",
       "    }\n",
       "\n",
       "    .dataframe thead th {\n",
       "        text-align: right;\n",
       "    }\n",
       "</style>\n",
       "<table border=\"1\" class=\"dataframe\">\n",
       "  <thead>\n",
       "    <tr style=\"text-align: right;\">\n",
       "      <th></th>\n",
       "      <th>id</th>\n",
       "      <th>author</th>\n",
       "      <th>created_at</th>\n",
       "      <th>location</th>\n",
       "      <th>description</th>\n",
       "      <th>verified</th>\n",
       "      <th>followers</th>\n",
       "      <th>following</th>\n",
       "      <th>favourites_count</th>\n",
       "      <th>statuses_count</th>\n",
       "      <th>lang</th>\n",
       "      <th>tweets</th>\n",
       "      <th>following_json</th>\n",
       "      <th>followers_json</th>\n",
       "    </tr>\n",
       "  </thead>\n",
       "  <tbody>\n",
       "    <tr>\n",
       "      <th>0</th>\n",
       "      <td>15224855</td>\n",
       "      <td>ricardo_l</td>\n",
       "      <td>2008-06-24 22:36:49</td>\n",
       "      <td>San Juan, Puerto Rico</td>\n",
       "      <td>Policy and Communications, Stakeholder Managem...</td>\n",
       "      <td>False</td>\n",
       "      <td>922</td>\n",
       "      <td>951</td>\n",
       "      <td>3670</td>\n",
       "      <td>3095</td>\n",
       "      <td>None</td>\n",
       "      <td>[{\"id\": 1355584663377612802, \"created_at\": \"20...</td>\n",
       "      <td>[{\"id\": 1197230058039054339, \"author\": \"andgon...</td>\n",
       "      <td>[{\"id\": 107615345, \"author\": \"dramosgutierrez\"...</td>\n",
       "    </tr>\n",
       "    <tr>\n",
       "      <th>1</th>\n",
       "      <td>15851028</td>\n",
       "      <td>mateo922</td>\n",
       "      <td>2008-08-14 14:48:08</td>\n",
       "      <td>Cayey, Puerto Rico</td>\n",
       "      <td>I say what I do and I do what I said.</td>\n",
       "      <td>False</td>\n",
       "      <td>79</td>\n",
       "      <td>526</td>\n",
       "      <td>9135</td>\n",
       "      <td>2023</td>\n",
       "      <td>None</td>\n",
       "      <td>[{\"id\": 1355177247951478785, \"created_at\": \"20...</td>\n",
       "      <td>[{\"id\": 2203150838, \"author\": \"TeanaKitten\", \"...</td>\n",
       "      <td>[{\"id\": 1381820379891695618, \"author\": \"ousman...</td>\n",
       "    </tr>\n",
       "    <tr>\n",
       "      <th>2</th>\n",
       "      <td>17977795</td>\n",
       "      <td>Badillo83</td>\n",
       "      <td>2008-12-08 23:55:49</td>\n",
       "      <td>Aguadilla, PR</td>\n",
       "      <td></td>\n",
       "      <td>False</td>\n",
       "      <td>44</td>\n",
       "      <td>125</td>\n",
       "      <td>29</td>\n",
       "      <td>8</td>\n",
       "      <td>None</td>\n",
       "      <td>[{\"id\": 1340802217306144768, \"created_at\": \"20...</td>\n",
       "      <td>[{\"id\": 1357812393729003520, \"author\": \"Crypto...</td>\n",
       "      <td>[{\"id\": 75538366, \"author\": \"AdrianAcostaPR\", ...</td>\n",
       "    </tr>\n",
       "    <tr>\n",
       "      <th>3</th>\n",
       "      <td>17977795</td>\n",
       "      <td>Badillo83</td>\n",
       "      <td>2008-12-08 23:55:49</td>\n",
       "      <td>Aguadilla, PR</td>\n",
       "      <td></td>\n",
       "      <td>False</td>\n",
       "      <td>44</td>\n",
       "      <td>125</td>\n",
       "      <td>29</td>\n",
       "      <td>8</td>\n",
       "      <td>None</td>\n",
       "      <td>[{\"id\": 1340802217306144768, \"created_at\": \"20...</td>\n",
       "      <td>[{\"id\": 1357812393729003520, \"author\": \"Crypto...</td>\n",
       "      <td>[{\"id\": 75538366, \"author\": \"AdrianAcostaPR\", ...</td>\n",
       "    </tr>\n",
       "    <tr>\n",
       "      <th>4</th>\n",
       "      <td>17977795</td>\n",
       "      <td>Badillo83</td>\n",
       "      <td>2008-12-08 23:55:49</td>\n",
       "      <td>Aguadilla, PR</td>\n",
       "      <td></td>\n",
       "      <td>False</td>\n",
       "      <td>44</td>\n",
       "      <td>125</td>\n",
       "      <td>30</td>\n",
       "      <td>8</td>\n",
       "      <td>None</td>\n",
       "      <td>[{\"id\": 1340802217306144768, \"created_at\": \"20...</td>\n",
       "      <td>[{\"id\": 1357812393729003520, \"author\": \"Crypto...</td>\n",
       "      <td>[{\"id\": 75538366, \"author\": \"AdrianAcostaPR\", ...</td>\n",
       "    </tr>\n",
       "  </tbody>\n",
       "</table>\n",
       "</div>"
      ],
      "text/plain": [
       "         id     author          created_at               location  \\\n",
       "0  15224855  ricardo_l 2008-06-24 22:36:49  San Juan, Puerto Rico   \n",
       "1  15851028   mateo922 2008-08-14 14:48:08     Cayey, Puerto Rico   \n",
       "2  17977795  Badillo83 2008-12-08 23:55:49          Aguadilla, PR   \n",
       "3  17977795  Badillo83 2008-12-08 23:55:49          Aguadilla, PR   \n",
       "4  17977795  Badillo83 2008-12-08 23:55:49          Aguadilla, PR   \n",
       "\n",
       "                                         description  verified  followers  \\\n",
       "0  Policy and Communications, Stakeholder Managem...     False        922   \n",
       "1              I say what I do and I do what I said.     False         79   \n",
       "2                                                        False         44   \n",
       "3                                                        False         44   \n",
       "4                                                        False         44   \n",
       "\n",
       "   following  favourites_count  statuses_count  lang  \\\n",
       "0        951              3670            3095  None   \n",
       "1        526              9135            2023  None   \n",
       "2        125                29               8  None   \n",
       "3        125                29               8  None   \n",
       "4        125                30               8  None   \n",
       "\n",
       "                                              tweets  \\\n",
       "0  [{\"id\": 1355584663377612802, \"created_at\": \"20...   \n",
       "1  [{\"id\": 1355177247951478785, \"created_at\": \"20...   \n",
       "2  [{\"id\": 1340802217306144768, \"created_at\": \"20...   \n",
       "3  [{\"id\": 1340802217306144768, \"created_at\": \"20...   \n",
       "4  [{\"id\": 1340802217306144768, \"created_at\": \"20...   \n",
       "\n",
       "                                      following_json  \\\n",
       "0  [{\"id\": 1197230058039054339, \"author\": \"andgon...   \n",
       "1  [{\"id\": 2203150838, \"author\": \"TeanaKitten\", \"...   \n",
       "2  [{\"id\": 1357812393729003520, \"author\": \"Crypto...   \n",
       "3  [{\"id\": 1357812393729003520, \"author\": \"Crypto...   \n",
       "4  [{\"id\": 1357812393729003520, \"author\": \"Crypto...   \n",
       "\n",
       "                                      followers_json  \n",
       "0  [{\"id\": 107615345, \"author\": \"dramosgutierrez\"...  \n",
       "1  [{\"id\": 1381820379891695618, \"author\": \"ousman...  \n",
       "2  [{\"id\": 75538366, \"author\": \"AdrianAcostaPR\", ...  \n",
       "3  [{\"id\": 75538366, \"author\": \"AdrianAcostaPR\", ...  \n",
       "4  [{\"id\": 75538366, \"author\": \"AdrianAcostaPR\", ...  "
      ]
     },
     "execution_count": 99,
     "metadata": {},
     "output_type": "execute_result"
    }
   ],
   "source": [
    "df.head()"
   ]
  },
  {
   "cell_type": "code",
   "execution_count": 120,
   "id": "dfbed60f",
   "metadata": {},
   "outputs": [
    {
     "name": "stdout",
     "output_type": "stream",
     "text": [
      "435940\n",
      "181519\n",
      "2\n",
      "34422\n",
      "2\n",
      "34422\n",
      "2\n",
      "2\n",
      "68260\n",
      "331733\n",
      "2\n",
      "2\n",
      "826569\n",
      "2\n",
      "476\n",
      "617388\n",
      "60177\n",
      "2\n",
      "725156\n",
      "763868\n",
      "731587\n",
      "494057\n",
      "2\n",
      "2\n",
      "12645\n",
      "498511\n",
      "398221\n",
      "2\n",
      "542318\n",
      "325\n",
      "325\n",
      "325\n",
      "702299\n",
      "685193\n",
      "2\n",
      "2\n",
      "2\n",
      "140497\n",
      "261657\n",
      "685293\n",
      "a\n",
      "a\n",
      "a\n",
      "a\n",
      "a\n",
      "a\n",
      "a\n",
      "a\n",
      "a\n",
      "a\n",
      "a\n",
      "a\n",
      "a\n",
      "a\n",
      "a\n",
      "a\n",
      "a\n",
      "a\n",
      "a\n",
      "a\n",
      "a\n",
      "a\n",
      "a\n"
     ]
    },
    {
     "name": "stderr",
     "output_type": "stream",
     "text": [
      "/usr/local/lib/python3.9/site-packages/ipykernel/ipkernel.py:283: DeprecationWarning: `should_run_async` will not call `transform_cell` automatically in the future. Please pass the result to `transformed_cell` argument and any exception that happen during thetransform in `preprocessing_exc_tuple` in IPython 7.17 and above.\n",
      "  and should_run_async(code)\n"
     ]
    }
   ],
   "source": [
    "index = 0\n",
    "for tweets in df.tweets:\n",
    "    print(len(tweets))\n",
    "    if(len(tweets) == 2):\n",
    "        df.drop([index], inplace=True, axis=0)\n",
    "    \n",
    "    index+=1\n",
    "    \n",
    "df.reset_index(inplace=True)\n",
    "\n",
    "index = 0\n",
    "temp_user = \"\"\n",
    "for user in df.author:\n",
    "    if(user != temp_user):\n",
    "        print(\"a\")\n",
    "        temp_user = user \n",
    "    else:\n",
    "        df.drop([index], inplace=True, axis=0)\n",
    "    \n",
    "    \n",
    "    index+=1\n",
    "    \n",
    "    \n",
    "    "
   ]
  },
  {
   "cell_type": "code",
   "execution_count": 112,
   "id": "2016e173",
   "metadata": {},
   "outputs": [
    {
     "name": "stderr",
     "output_type": "stream",
     "text": [
      "/usr/local/lib/python3.9/site-packages/ipykernel/ipkernel.py:283: DeprecationWarning: `should_run_async` will not call `transform_cell` automatically in the future. Please pass the result to `transformed_cell` argument and any exception that happen during thetransform in `preprocessing_exc_tuple` in IPython 7.17 and above.\n",
      "  and should_run_async(code)\n"
     ]
    },
    {
     "data": {
      "text/html": [
       "<div>\n",
       "<style scoped>\n",
       "    .dataframe tbody tr th:only-of-type {\n",
       "        vertical-align: middle;\n",
       "    }\n",
       "\n",
       "    .dataframe tbody tr th {\n",
       "        vertical-align: top;\n",
       "    }\n",
       "\n",
       "    .dataframe thead th {\n",
       "        text-align: right;\n",
       "    }\n",
       "</style>\n",
       "<table border=\"1\" class=\"dataframe\">\n",
       "  <thead>\n",
       "    <tr style=\"text-align: right;\">\n",
       "      <th></th>\n",
       "      <th>index</th>\n",
       "      <th>id</th>\n",
       "      <th>author</th>\n",
       "      <th>created_at</th>\n",
       "      <th>location</th>\n",
       "      <th>description</th>\n",
       "      <th>verified</th>\n",
       "      <th>followers</th>\n",
       "      <th>following</th>\n",
       "      <th>favourites_count</th>\n",
       "      <th>statuses_count</th>\n",
       "      <th>lang</th>\n",
       "      <th>tweets</th>\n",
       "      <th>following_json</th>\n",
       "      <th>followers_json</th>\n",
       "    </tr>\n",
       "  </thead>\n",
       "  <tbody>\n",
       "    <tr>\n",
       "      <th>0</th>\n",
       "      <td>0</td>\n",
       "      <td>2284857094</td>\n",
       "      <td>themoonisironic</td>\n",
       "      <td>2014-01-16 01:10:33</td>\n",
       "      <td>‘97 // they/them // ????????</td>\n",
       "      <td>where there is hope, there are trials // art: ...</td>\n",
       "      <td>False</td>\n",
       "      <td>101</td>\n",
       "      <td>516</td>\n",
       "      <td>121166</td>\n",
       "      <td>36377</td>\n",
       "      <td>None</td>\n",
       "      <td>[{\"id\": 1356030533780824069, \"created_at\": \"20...</td>\n",
       "      <td>[{\"id\": 1387079251476815875, \"author\": \"rikuno...</td>\n",
       "      <td>[{\"id\": 1384297303129825284, \"author\": \"bts123...</td>\n",
       "    </tr>\n",
       "    <tr>\n",
       "      <th>1</th>\n",
       "      <td>1</td>\n",
       "      <td>834324620</td>\n",
       "      <td>bbelita23</td>\n",
       "      <td>2012-09-19 23:21:48</td>\n",
       "      <td>spooky town, PR</td>\n",
       "      <td>just put it out into the universe</td>\n",
       "      <td>False</td>\n",
       "      <td>670</td>\n",
       "      <td>443</td>\n",
       "      <td>33428</td>\n",
       "      <td>92917</td>\n",
       "      <td>None</td>\n",
       "      <td>[{\"id\": 1356026926134140928, \"created_at\": \"20...</td>\n",
       "      <td>[{\"id\": 2513536418, \"author\": \"Kvn_Astacio\", \"...</td>\n",
       "      <td>[{\"id\": 1289669319526420482, \"author\": \"keviin...</td>\n",
       "    </tr>\n",
       "    <tr>\n",
       "      <th>2</th>\n",
       "      <td>3</td>\n",
       "      <td>1685491040</td>\n",
       "      <td>CoraimaINegron</td>\n",
       "      <td>2013-08-20 10:48:59</td>\n",
       "      <td>Puerto Rico</td>\n",
       "      <td>“El karma te lo devolverá todo, excepto a la m...</td>\n",
       "      <td>False</td>\n",
       "      <td>64</td>\n",
       "      <td>203</td>\n",
       "      <td>1336</td>\n",
       "      <td>1565</td>\n",
       "      <td>None</td>\n",
       "      <td>[{\"id\": 1283388114661244934, \"created_at\": \"20...</td>\n",
       "      <td>[{\"id\": 299932350, \"author\": \"DMcIntyreWWE\", \"...</td>\n",
       "      <td>[{\"id\": 713749428935462916, \"author\": \"DavidRo...</td>\n",
       "    </tr>\n",
       "    <tr>\n",
       "      <th>4</th>\n",
       "      <td>8</td>\n",
       "      <td>1346688657365889024</td>\n",
       "      <td>SJCiudadCapital</td>\n",
       "      <td>2021-01-06 05:23:04</td>\n",
       "      <td></td>\n",
       "      <td>Cuenta Oficial de la Ciudad Capital de Puerto ...</td>\n",
       "      <td>False</td>\n",
       "      <td>2915</td>\n",
       "      <td>183</td>\n",
       "      <td>291</td>\n",
       "      <td>1157</td>\n",
       "      <td>None</td>\n",
       "      <td>[{\"id\": 1355954464436473856, \"created_at\": \"20...</td>\n",
       "      <td>[{\"id\": 1309256724830969857, \"author\": \"estefa...</td>\n",
       "      <td>[{\"id\": 1271152649304518657, \"author\": \"JCruz_...</td>\n",
       "    </tr>\n",
       "    <tr>\n",
       "      <th>5</th>\n",
       "      <td>9</td>\n",
       "      <td>521836439</td>\n",
       "      <td>Angelicv_G</td>\n",
       "      <td>2012-03-12 01:12:16</td>\n",
       "      <td>Puerto Rico</td>\n",
       "      <td>UT • yo no sé que poner aquí??</td>\n",
       "      <td>False</td>\n",
       "      <td>962</td>\n",
       "      <td>519</td>\n",
       "      <td>115665</td>\n",
       "      <td>130883</td>\n",
       "      <td>None</td>\n",
       "      <td>[{\"id\": 1356041673227313154, \"created_at\": \"20...</td>\n",
       "      <td>[{\"id\": 1192074658994180096, \"author\": \"Nsnili...</td>\n",
       "      <td>[{\"id\": 1383464766283280389, \"author\": \"geegee...</td>\n",
       "    </tr>\n",
       "  </tbody>\n",
       "</table>\n",
       "</div>"
      ],
      "text/plain": [
       "   index                   id           author          created_at  \\\n",
       "0      0           2284857094  themoonisironic 2014-01-16 01:10:33   \n",
       "1      1            834324620        bbelita23 2012-09-19 23:21:48   \n",
       "2      3           1685491040   CoraimaINegron 2013-08-20 10:48:59   \n",
       "4      8  1346688657365889024  SJCiudadCapital 2021-01-06 05:23:04   \n",
       "5      9            521836439       Angelicv_G 2012-03-12 01:12:16   \n",
       "\n",
       "                       location  \\\n",
       "0  ‘97 // they/them // ????????   \n",
       "1              spooky town, PR    \n",
       "2                   Puerto Rico   \n",
       "4                                 \n",
       "5                   Puerto Rico   \n",
       "\n",
       "                                         description  verified  followers  \\\n",
       "0  where there is hope, there are trials // art: ...     False        101   \n",
       "1                  just put it out into the universe     False        670   \n",
       "2  “El karma te lo devolverá todo, excepto a la m...     False         64   \n",
       "4  Cuenta Oficial de la Ciudad Capital de Puerto ...     False       2915   \n",
       "5                     UT • yo no sé que poner aquí??     False        962   \n",
       "\n",
       "   following  favourites_count  statuses_count  lang  \\\n",
       "0        516            121166           36377  None   \n",
       "1        443             33428           92917  None   \n",
       "2        203              1336            1565  None   \n",
       "4        183               291            1157  None   \n",
       "5        519            115665          130883  None   \n",
       "\n",
       "                                              tweets  \\\n",
       "0  [{\"id\": 1356030533780824069, \"created_at\": \"20...   \n",
       "1  [{\"id\": 1356026926134140928, \"created_at\": \"20...   \n",
       "2  [{\"id\": 1283388114661244934, \"created_at\": \"20...   \n",
       "4  [{\"id\": 1355954464436473856, \"created_at\": \"20...   \n",
       "5  [{\"id\": 1356041673227313154, \"created_at\": \"20...   \n",
       "\n",
       "                                      following_json  \\\n",
       "0  [{\"id\": 1387079251476815875, \"author\": \"rikuno...   \n",
       "1  [{\"id\": 2513536418, \"author\": \"Kvn_Astacio\", \"...   \n",
       "2  [{\"id\": 299932350, \"author\": \"DMcIntyreWWE\", \"...   \n",
       "4  [{\"id\": 1309256724830969857, \"author\": \"estefa...   \n",
       "5  [{\"id\": 1192074658994180096, \"author\": \"Nsnili...   \n",
       "\n",
       "                                      followers_json  \n",
       "0  [{\"id\": 1384297303129825284, \"author\": \"bts123...  \n",
       "1  [{\"id\": 1289669319526420482, \"author\": \"keviin...  \n",
       "2  [{\"id\": 713749428935462916, \"author\": \"DavidRo...  \n",
       "4  [{\"id\": 1271152649304518657, \"author\": \"JCruz_...  \n",
       "5  [{\"id\": 1383464766283280389, \"author\": \"geegee...  "
      ]
     },
     "execution_count": 112,
     "metadata": {},
     "output_type": "execute_result"
    }
   ],
   "source": [
    "df.head(10)"
   ]
  },
  {
   "cell_type": "code",
   "execution_count": 121,
   "id": "61c9cdad",
   "metadata": {},
   "outputs": [
    {
     "name": "stderr",
     "output_type": "stream",
     "text": [
      "/usr/local/lib/python3.9/site-packages/ipykernel/ipkernel.py:283: DeprecationWarning: `should_run_async` will not call `transform_cell` automatically in the future. Please pass the result to `transformed_cell` argument and any exception that happen during thetransform in `preprocessing_exc_tuple` in IPython 7.17 and above.\n",
      "  and should_run_async(code)\n"
     ]
    }
   ],
   "source": [
    "x = concatTweets(df)\n",
    "\n",
    "\n"
   ]
  },
  {
   "cell_type": "code",
   "execution_count": 11,
   "id": "b70e074d",
   "metadata": {},
   "outputs": [
    {
     "data": {
      "text/plain": [
       "'Preprocessor í is 👍'"
      ]
     },
     "execution_count": 11,
     "metadata": {},
     "output_type": "execute_result"
    }
   ],
   "source": [
    "import preprocessor as p\n",
    "p.set_options(p.OPT.URL,p.OPT.MENTION,p.OPT.HASHTAG,p.OPT.RESERVED,p.OPT.SMILEY,p.OPT.NUMBER)\n",
    "p.clean('Preprocessor í is #awesome 👍 https://github.com/s/preprocessor')"
   ]
  },
  {
   "cell_type": "code",
   "execution_count": 56,
   "id": "bfee8576",
   "metadata": {},
   "outputs": [
    {
     "name": "stderr",
     "output_type": "stream",
     "text": [
      "[nltk_data] Downloading package maxent_ne_chunker to\n",
      "[nltk_data]     C:\\Users\\afabi/nltk_data...\n",
      "[nltk_data]   Package maxent_ne_chunker is already up-to-date!\n",
      "[nltk_data] Downloading package words to C:\\Users\\afabi/nltk_data...\n",
      "[nltk_data]   Package words is already up-to-date!\n",
      "[nltk_data] Downloading package punkt to C:\\Users\\afabi/nltk_data...\n",
      "[nltk_data]   Unzipping tokenizers\\punkt.zip.\n"
     ]
    }
   ],
   "source": [
    "nltk.download('maxent_ne_chunker')\n",
    "nltk.download('words')\n",
    "nltk.download('punkt')\n",
    "\n",
    "\n",
    "texto = pd.DataFrame(tuits, columns=[\"text\"])"
   ]
  },
  {
   "cell_type": "code",
   "execution_count": 57,
   "id": "bc278123",
   "metadata": {},
   "outputs": [
    {
     "name": "stderr",
     "output_type": "stream",
     "text": [
      "[nltk_data] Downloading package stopwords to\n",
      "[nltk_data]     C:\\Users\\afabi/nltk_data...\n",
      "[nltk_data]   Unzipping corpora\\stopwords.zip.\n",
      "[nltk_data] Downloading package wordnet to C:\\Users\\afabi/nltk_data...\n",
      "[nltk_data]   Unzipping corpora\\wordnet.zip.\n"
     ]
    },
    {
     "ename": "AttributeError",
     "evalue": "module 'preprocessor' has no attribute 'set_options'",
     "output_type": "error",
     "traceback": [
      "\u001b[1;31m---------------------------------------------------------------------------\u001b[0m",
      "\u001b[1;31mAttributeError\u001b[0m                            Traceback (most recent call last)",
      "\u001b[1;32m<ipython-input-57-972918190e87>\u001b[0m in \u001b[0;36m<module>\u001b[1;34m\u001b[0m\n\u001b[0;32m      1\u001b[0m \u001b[0mnltk\u001b[0m\u001b[1;33m.\u001b[0m\u001b[0mdownload\u001b[0m\u001b[1;33m(\u001b[0m\u001b[1;34m'stopwords'\u001b[0m\u001b[1;33m)\u001b[0m\u001b[1;33m\u001b[0m\u001b[1;33m\u001b[0m\u001b[0m\n\u001b[0;32m      2\u001b[0m \u001b[0mnltk\u001b[0m\u001b[1;33m.\u001b[0m\u001b[0mdownload\u001b[0m\u001b[1;33m(\u001b[0m\u001b[1;34m'wordnet'\u001b[0m\u001b[1;33m)\u001b[0m\u001b[1;33m\u001b[0m\u001b[1;33m\u001b[0m\u001b[0m\n\u001b[1;32m----> 3\u001b[1;33m \u001b[0mdocumento\u001b[0m \u001b[1;33m=\u001b[0m \u001b[0mDocument\u001b[0m\u001b[1;33m(\u001b[0m\u001b[0mtexto\u001b[0m\u001b[1;33m)\u001b[0m\u001b[1;33m\u001b[0m\u001b[1;33m\u001b[0m\u001b[0m\n\u001b[0m",
      "\u001b[1;32m<ipython-input-33-cfc285272681>\u001b[0m in \u001b[0;36m__init__\u001b[1;34m(self, df)\u001b[0m\n\u001b[0;32m     36\u001b[0m         \u001b[0mself\u001b[0m\u001b[1;33m.\u001b[0m\u001b[0mdata\u001b[0m \u001b[1;33m=\u001b[0m \u001b[0mdf\u001b[0m\u001b[1;33m\u001b[0m\u001b[1;33m\u001b[0m\u001b[0m\n\u001b[0;32m     37\u001b[0m         \u001b[0mself\u001b[0m\u001b[1;33m.\u001b[0m\u001b[0mtext\u001b[0m \u001b[1;33m=\u001b[0m \u001b[0mdf\u001b[0m\u001b[1;33m[\u001b[0m\u001b[1;34m\"text\"\u001b[0m\u001b[1;33m]\u001b[0m\u001b[1;33m.\u001b[0m\u001b[0mastype\u001b[0m\u001b[1;33m(\u001b[0m\u001b[0mstr\u001b[0m\u001b[1;33m)\u001b[0m\u001b[1;33m\u001b[0m\u001b[1;33m\u001b[0m\u001b[0m\n\u001b[1;32m---> 38\u001b[1;33m         \u001b[0mself\u001b[0m\u001b[1;33m.\u001b[0m\u001b[0mtextPreProcessing\u001b[0m\u001b[1;33m(\u001b[0m\u001b[1;33m)\u001b[0m\u001b[1;33m\u001b[0m\u001b[1;33m\u001b[0m\u001b[0m\n\u001b[0m\u001b[0;32m     39\u001b[0m \u001b[1;33m\u001b[0m\u001b[0m\n\u001b[0;32m     40\u001b[0m \u001b[1;33m\u001b[0m\u001b[0m\n",
      "\u001b[1;32m<ipython-input-33-cfc285272681>\u001b[0m in \u001b[0;36mtextPreProcessing\u001b[1;34m(self)\u001b[0m\n\u001b[0;32m    137\u001b[0m         \u001b[0mThe\u001b[0m \u001b[0mfunction\u001b[0m \u001b[0mstores\u001b[0m \u001b[0mthe\u001b[0m \u001b[0mcleaned\u001b[0m \u001b[0mtext\u001b[0m \u001b[1;32min\u001b[0m \u001b[0mthe\u001b[0m \u001b[0mself\u001b[0m\u001b[1;33m.\u001b[0m\u001b[0mdata\u001b[0m\u001b[1;33m\u001b[0m\u001b[1;33m\u001b[0m\u001b[0m\n\u001b[0;32m    138\u001b[0m         attribute. \"\"\"\n\u001b[1;32m--> 139\u001b[1;33m         \u001b[0mp\u001b[0m\u001b[1;33m.\u001b[0m\u001b[0mset_options\u001b[0m\u001b[1;33m(\u001b[0m\u001b[0mp\u001b[0m\u001b[1;33m.\u001b[0m\u001b[0mOPT\u001b[0m\u001b[1;33m.\u001b[0m\u001b[0mURL\u001b[0m\u001b[1;33m,\u001b[0m\u001b[0mp\u001b[0m\u001b[1;33m.\u001b[0m\u001b[0mOPT\u001b[0m\u001b[1;33m.\u001b[0m\u001b[0mMENTION\u001b[0m\u001b[1;33m,\u001b[0m\u001b[0mp\u001b[0m\u001b[1;33m.\u001b[0m\u001b[0mOPT\u001b[0m\u001b[1;33m.\u001b[0m\u001b[0mHASHTAG\u001b[0m\u001b[1;33m,\u001b[0m\u001b[0mp\u001b[0m\u001b[1;33m.\u001b[0m\u001b[0mOPT\u001b[0m\u001b[1;33m.\u001b[0m\u001b[0mRESERVED\u001b[0m\u001b[1;33m,\u001b[0m\u001b[0mp\u001b[0m\u001b[1;33m.\u001b[0m\u001b[0mOPT\u001b[0m\u001b[1;33m.\u001b[0m\u001b[0mSMILEY\u001b[0m\u001b[1;33m,\u001b[0m\u001b[0mp\u001b[0m\u001b[1;33m.\u001b[0m\u001b[0mOPT\u001b[0m\u001b[1;33m.\u001b[0m\u001b[0mNUMBER\u001b[0m\u001b[1;33m)\u001b[0m\u001b[1;33m\u001b[0m\u001b[1;33m\u001b[0m\u001b[0m\n\u001b[0m\u001b[0;32m    140\u001b[0m \u001b[1;33m\u001b[0m\u001b[0m\n\u001b[0;32m    141\u001b[0m \u001b[1;33m\u001b[0m\u001b[0m\n",
      "\u001b[1;31mAttributeError\u001b[0m: module 'preprocessor' has no attribute 'set_options'"
     ]
    }
   ],
   "source": [
    "nltk.download('stopwords')\n",
    "nltk.download('wordnet')\n",
    "documento = Document(texto)\n"
   ]
  },
  {
   "cell_type": "code",
   "execution_count": 502,
   "id": "cdd7a29e",
   "metadata": {},
   "outputs": [
    {
     "data": {
      "text/html": [
       "<div>\n",
       "<style scoped>\n",
       "    .dataframe tbody tr th:only-of-type {\n",
       "        vertical-align: middle;\n",
       "    }\n",
       "\n",
       "    .dataframe tbody tr th {\n",
       "        vertical-align: top;\n",
       "    }\n",
       "\n",
       "    .dataframe thead th {\n",
       "        text-align: right;\n",
       "    }\n",
       "</style>\n",
       "<table border=\"1\" class=\"dataframe\">\n",
       "  <thead>\n",
       "    <tr style=\"text-align: right;\">\n",
       "      <th></th>\n",
       "      <th>text</th>\n",
       "      <th>clean_text</th>\n",
       "    </tr>\n",
       "  </thead>\n",
       "  <tbody>\n",
       "    <tr>\n",
       "      <th>0</th>\n",
       "      <td>Nada más cierto! 🤦🏻‍♀️🤦🏻‍♀️🤦🏻‍♀️</td>\n",
       "      <td>[Nada, mas, cierto]</td>\n",
       "    </tr>\n",
       "    <tr>\n",
       "      <th>1</th>\n",
       "      <td>Llamen a mi jefe diganle que la lluvia no me d...</td>\n",
       "      <td>[Llamen, jefe, diganle, lluvia, deja, ir, trab...</td>\n",
       "    </tr>\n",
       "    <tr>\n",
       "      <th>2</th>\n",
       "      <td>:</td>\n",
       "      <td>[]</td>\n",
       "    </tr>\n",
       "    <tr>\n",
       "      <th>3</th>\n",
       "      <td>: , , Pescao! Pescao!</td>\n",
       "      <td>[Pescao, Pescao]</td>\n",
       "    </tr>\n",
       "    <tr>\n",
       "      <th>4</th>\n",
       "      <td>Así está bien o todavía no estas tan sorprendi...</td>\n",
       "      <td>[Asi, bien, todavia, tan, sorprendido, El, gol...</td>\n",
       "    </tr>\n",
       "  </tbody>\n",
       "</table>\n",
       "</div>"
      ],
      "text/plain": [
       "                                                text  \\\n",
       "0                   Nada más cierto! 🤦🏻‍♀️🤦🏻‍♀️🤦🏻‍♀️   \n",
       "1  Llamen a mi jefe diganle que la lluvia no me d...   \n",
       "2                                                  :   \n",
       "3                              : , , Pescao! Pescao!   \n",
       "4  Así está bien o todavía no estas tan sorprendi...   \n",
       "\n",
       "                                          clean_text  \n",
       "0                                [Nada, mas, cierto]  \n",
       "1  [Llamen, jefe, diganle, lluvia, deja, ir, trab...  \n",
       "2                                                 []  \n",
       "3                                   [Pescao, Pescao]  \n",
       "4  [Asi, bien, todavia, tan, sorprendido, El, gol...  "
      ]
     },
     "execution_count": 502,
     "metadata": {},
     "output_type": "execute_result"
    }
   ],
   "source": [
    "documento.data.head()"
   ]
  },
  {
   "cell_type": "markdown",
   "id": "2305dd1c",
   "metadata": {},
   "source": [
    "### Word2vec"
   ]
  },
  {
   "cell_type": "code",
   "execution_count": 356,
   "id": "227036a1",
   "metadata": {},
   "outputs": [],
   "source": [
    "model = Word2Vec(documento.data[\"clean_text\"], min_count=0, workers=20, window=2,  alpha=0.02, hs=1)\n",
    "\n"
   ]
  },
  {
   "cell_type": "code",
   "execution_count": 503,
   "id": "db1351e7",
   "metadata": {},
   "outputs": [],
   "source": [
    "my_dict = dict({})\n",
    "for idx, key in enumerate(model.wv.key_to_index):\n",
    "    my_dict[key] = model.wv[key]"
   ]
  },
  {
   "cell_type": "code",
   "execution_count": 504,
   "id": "ee868e4c",
   "metadata": {},
   "outputs": [
    {
     "data": {
      "text/html": [
       "<div>\n",
       "<style scoped>\n",
       "    .dataframe tbody tr th:only-of-type {\n",
       "        vertical-align: middle;\n",
       "    }\n",
       "\n",
       "    .dataframe tbody tr th {\n",
       "        vertical-align: top;\n",
       "    }\n",
       "\n",
       "    .dataframe thead th {\n",
       "        text-align: right;\n",
       "    }\n",
       "</style>\n",
       "<table border=\"1\" class=\"dataframe\">\n",
       "  <thead>\n",
       "    <tr style=\"text-align: right;\">\n",
       "      <th></th>\n",
       "      <th>text</th>\n",
       "      <th>clean_text</th>\n",
       "      <th>vectorized_text</th>\n",
       "    </tr>\n",
       "  </thead>\n",
       "  <tbody>\n",
       "    <tr>\n",
       "      <th>113</th>\n",
       "      <td>: El ajusta la magnitud a , en el límite de pr...</td>\n",
       "      <td>[El, ajusta, magnitud, limite, producir, tsunami]</td>\n",
       "      <td>[[-0.017272485, 0.008652826, 0.007515971, 0.00...</td>\n",
       "    </tr>\n",
       "    <tr>\n",
       "      <th>114</th>\n",
       "      <td>: “ Van a seguir ocurriendo eventos fuertes. H...</td>\n",
       "      <td>[Van, seguir, ocurriendo, eventos, fuertes, Ha...</td>\n",
       "      <td>[[-0.0027897793, -0.0016228552, -0.007687815, ...</td>\n",
       "    </tr>\n",
       "    <tr>\n",
       "      <th>115</th>\n",
       "      <td>: Casa colapsada en Yauco.</td>\n",
       "      <td>[Casa, colapsada, Yauco]</td>\n",
       "      <td>[[0.008535036, 0.013252284, 0.00035941493, 0.0...</td>\n",
       "    </tr>\n",
       "    <tr>\n",
       "      <th>116</th>\n",
       "      <td>: “Las réplicas podrían ser de magnitud mayor ...</td>\n",
       "      <td>[Las, replicas, podrian, ser, magnitud, mayor,...</td>\n",
       "      <td>[[0.0029013832, -0.0027108788, -0.0015446608, ...</td>\n",
       "    </tr>\n",
       "    <tr>\n",
       "      <th>117</th>\n",
       "      <td>: PRELIMINAR -01-06 :58:03 No hay Aviso, Adver...</td>\n",
       "      <td>[PRELIMINAR, 06, 5803, No, Aviso, Advertencia,...</td>\n",
       "      <td>[[-0.0127012255, 0.0040803654, 0.009027934, -0...</td>\n",
       "    </tr>\n",
       "  </tbody>\n",
       "</table>\n",
       "</div>"
      ],
      "text/plain": [
       "                                                  text  \\\n",
       "113  : El ajusta la magnitud a , en el límite de pr...   \n",
       "114  : “ Van a seguir ocurriendo eventos fuertes. H...   \n",
       "115                         : Casa colapsada en Yauco.   \n",
       "116  : “Las réplicas podrían ser de magnitud mayor ...   \n",
       "117  : PRELIMINAR -01-06 :58:03 No hay Aviso, Adver...   \n",
       "\n",
       "                                            clean_text  \\\n",
       "113  [El, ajusta, magnitud, limite, producir, tsunami]   \n",
       "114  [Van, seguir, ocurriendo, eventos, fuertes, Ha...   \n",
       "115                           [Casa, colapsada, Yauco]   \n",
       "116  [Las, replicas, podrian, ser, magnitud, mayor,...   \n",
       "117  [PRELIMINAR, 06, 5803, No, Aviso, Advertencia,...   \n",
       "\n",
       "                                       vectorized_text  \n",
       "113  [[-0.017272485, 0.008652826, 0.007515971, 0.00...  \n",
       "114  [[-0.0027897793, -0.0016228552, -0.007687815, ...  \n",
       "115  [[0.008535036, 0.013252284, 0.00035941493, 0.0...  \n",
       "116  [[0.0029013832, -0.0027108788, -0.0015446608, ...  \n",
       "117  [[-0.0127012255, 0.0040803654, 0.009027934, -0...  "
      ]
     },
     "execution_count": 504,
     "metadata": {},
     "output_type": "execute_result"
    }
   ],
   "source": [
    "vectores = []\n",
    "for a in documento.data.clean_text:\n",
    "    t  = []\n",
    "    for word in a:\n",
    "        try:\n",
    "            t.append(my_dict[word])\n",
    "        except:\n",
    "            continue\n",
    "    \n",
    "    vectores.append(t)\n",
    "        \n",
    "documento.data[\"vectorized_text\"] = vectores\n",
    "documento.data.tail()"
   ]
  },
  {
   "cell_type": "code",
   "execution_count": 505,
   "id": "d64ce846",
   "metadata": {},
   "outputs": [
    {
     "data": {
      "text/html": [
       "<div>\n",
       "<style scoped>\n",
       "    .dataframe tbody tr th:only-of-type {\n",
       "        vertical-align: middle;\n",
       "    }\n",
       "\n",
       "    .dataframe tbody tr th {\n",
       "        vertical-align: top;\n",
       "    }\n",
       "\n",
       "    .dataframe thead th {\n",
       "        text-align: right;\n",
       "    }\n",
       "</style>\n",
       "<table border=\"1\" class=\"dataframe\">\n",
       "  <thead>\n",
       "    <tr style=\"text-align: right;\">\n",
       "      <th></th>\n",
       "      <th>id</th>\n",
       "      <th>author</th>\n",
       "      <th>created_at</th>\n",
       "      <th>location</th>\n",
       "      <th>description</th>\n",
       "      <th>verified</th>\n",
       "      <th>followers</th>\n",
       "      <th>following</th>\n",
       "      <th>favourites_count</th>\n",
       "      <th>statuses_count</th>\n",
       "      <th>lang</th>\n",
       "      <th>tweets</th>\n",
       "      <th>following_json</th>\n",
       "      <th>followers_json</th>\n",
       "    </tr>\n",
       "  </thead>\n",
       "  <tbody>\n",
       "    <tr>\n",
       "      <th>5</th>\n",
       "      <td>1685491040</td>\n",
       "      <td>CoraimaINegron</td>\n",
       "      <td>2013-08-20 10:48:59</td>\n",
       "      <td>Puerto Rico</td>\n",
       "      <td>“El karma te lo devolverá todo, excepto a la m...</td>\n",
       "      <td>False</td>\n",
       "      <td>64</td>\n",
       "      <td>203</td>\n",
       "      <td>1336</td>\n",
       "      <td>1565</td>\n",
       "      <td>None</td>\n",
       "      <td>[{\"id\": 1283388114661244934, \"created_at\": \"20...</td>\n",
       "      <td>[{\"id\": 299932350, \"author\": \"DMcIntyreWWE\", \"...</td>\n",
       "      <td>[{\"id\": 713749428935462916, \"author\": \"DavidRo...</td>\n",
       "    </tr>\n",
       "    <tr>\n",
       "      <th>6</th>\n",
       "      <td>1388202983964520449</td>\n",
       "      <td>Personn34091581</td>\n",
       "      <td>2021-04-30 18:46:05</td>\n",
       "      <td>Costa brava</td>\n",
       "      <td></td>\n",
       "      <td>False</td>\n",
       "      <td>0</td>\n",
       "      <td>2</td>\n",
       "      <td>9</td>\n",
       "      <td>7</td>\n",
       "      <td>None</td>\n",
       "      <td>[]</td>\n",
       "      <td>[{\"id\": 560803492, \"author\": \"UrbanLePharaon\",...</td>\n",
       "      <td>[]</td>\n",
       "    </tr>\n",
       "    <tr>\n",
       "      <th>7</th>\n",
       "      <td>908687401123553280</td>\n",
       "      <td>rsantanafonseca</td>\n",
       "      <td>2017-09-15 13:42:13</td>\n",
       "      <td>COPU, UPRRP</td>\n",
       "      <td>19 (+3) | ?????? | Pop culture enthusiast, soc...</td>\n",
       "      <td>False</td>\n",
       "      <td>891</td>\n",
       "      <td>620</td>\n",
       "      <td>121676</td>\n",
       "      <td>124488</td>\n",
       "      <td>None</td>\n",
       "      <td>[]</td>\n",
       "      <td>[{\"id\": 755882683, \"author\": \"_vidalysrms\", \"c...</td>\n",
       "      <td>[{\"id\": 1344047685716815872, \"author\": \"LeQuee...</td>\n",
       "    </tr>\n",
       "    <tr>\n",
       "      <th>8</th>\n",
       "      <td>1346688657365889024</td>\n",
       "      <td>SJCiudadCapital</td>\n",
       "      <td>2021-01-06 05:23:04</td>\n",
       "      <td></td>\n",
       "      <td>Cuenta Oficial de la Ciudad Capital de Puerto ...</td>\n",
       "      <td>False</td>\n",
       "      <td>2915</td>\n",
       "      <td>183</td>\n",
       "      <td>291</td>\n",
       "      <td>1157</td>\n",
       "      <td>None</td>\n",
       "      <td>[{\"id\": 1355954464436473856, \"created_at\": \"20...</td>\n",
       "      <td>[{\"id\": 1309256724830969857, \"author\": \"estefa...</td>\n",
       "      <td>[{\"id\": 1271152649304518657, \"author\": \"JCruz_...</td>\n",
       "    </tr>\n",
       "    <tr>\n",
       "      <th>9</th>\n",
       "      <td>521836439</td>\n",
       "      <td>Angelicv_G</td>\n",
       "      <td>2012-03-12 01:12:16</td>\n",
       "      <td>Puerto Rico</td>\n",
       "      <td>UT • yo no sé que poner aquí??</td>\n",
       "      <td>False</td>\n",
       "      <td>962</td>\n",
       "      <td>519</td>\n",
       "      <td>115665</td>\n",
       "      <td>130883</td>\n",
       "      <td>None</td>\n",
       "      <td>[{\"id\": 1356041673227313154, \"created_at\": \"20...</td>\n",
       "      <td>[{\"id\": 1192074658994180096, \"author\": \"Nsnili...</td>\n",
       "      <td>[{\"id\": 1383464766283280389, \"author\": \"geegee...</td>\n",
       "    </tr>\n",
       "  </tbody>\n",
       "</table>\n",
       "</div>"
      ],
      "text/plain": [
       "                    id           author          created_at     location  \\\n",
       "5           1685491040   CoraimaINegron 2013-08-20 10:48:59  Puerto Rico   \n",
       "6  1388202983964520449  Personn34091581 2021-04-30 18:46:05  Costa brava   \n",
       "7   908687401123553280  rsantanafonseca 2017-09-15 13:42:13  COPU, UPRRP   \n",
       "8  1346688657365889024  SJCiudadCapital 2021-01-06 05:23:04                \n",
       "9            521836439       Angelicv_G 2012-03-12 01:12:16  Puerto Rico   \n",
       "\n",
       "                                         description  verified  followers  \\\n",
       "5  “El karma te lo devolverá todo, excepto a la m...     False         64   \n",
       "6                                                        False          0   \n",
       "7  19 (+3) | ?????? | Pop culture enthusiast, soc...     False        891   \n",
       "8  Cuenta Oficial de la Ciudad Capital de Puerto ...     False       2915   \n",
       "9                     UT • yo no sé que poner aquí??     False        962   \n",
       "\n",
       "   following  favourites_count  statuses_count  lang  \\\n",
       "5        203              1336            1565  None   \n",
       "6          2                 9               7  None   \n",
       "7        620            121676          124488  None   \n",
       "8        183               291            1157  None   \n",
       "9        519            115665          130883  None   \n",
       "\n",
       "                                              tweets  \\\n",
       "5  [{\"id\": 1283388114661244934, \"created_at\": \"20...   \n",
       "6                                                 []   \n",
       "7                                                 []   \n",
       "8  [{\"id\": 1355954464436473856, \"created_at\": \"20...   \n",
       "9  [{\"id\": 1356041673227313154, \"created_at\": \"20...   \n",
       "\n",
       "                                      following_json  \\\n",
       "5  [{\"id\": 299932350, \"author\": \"DMcIntyreWWE\", \"...   \n",
       "6  [{\"id\": 560803492, \"author\": \"UrbanLePharaon\",...   \n",
       "7  [{\"id\": 755882683, \"author\": \"_vidalysrms\", \"c...   \n",
       "8  [{\"id\": 1309256724830969857, \"author\": \"estefa...   \n",
       "9  [{\"id\": 1192074658994180096, \"author\": \"Nsnili...   \n",
       "\n",
       "                                      followers_json  \n",
       "5  [{\"id\": 713749428935462916, \"author\": \"DavidRo...  \n",
       "6                                                 []  \n",
       "7  [{\"id\": 1344047685716815872, \"author\": \"LeQuee...  \n",
       "8  [{\"id\": 1271152649304518657, \"author\": \"JCruz_...  \n",
       "9  [{\"id\": 1383464766283280389, \"author\": \"geegee...  "
      ]
     },
     "execution_count": 505,
     "metadata": {},
     "output_type": "execute_result"
    }
   ],
   "source": [
    "df.tail()"
   ]
  },
  {
   "cell_type": "markdown",
   "id": "712cb54b",
   "metadata": {},
   "source": [
    "# Topic Modeling "
   ]
  },
  {
   "cell_type": "code",
   "execution_count": 158,
   "id": "062752a4",
   "metadata": {},
   "outputs": [
    {
     "name": "stderr",
     "output_type": "stream",
     "text": [
      "/usr/local/lib/python3.9/site-packages/ipykernel/ipkernel.py:283: DeprecationWarning: `should_run_async` will not call `transform_cell` automatically in the future. Please pass the result to `transformed_cell` argument and any exception that happen during thetransform in `preprocessing_exc_tuple` in IPython 7.17 and above.\n",
      "  and should_run_async(code)\n"
     ]
    }
   ],
   "source": [
    "def asignTopics(users, tweetss):\n",
    "    topics = userSubSets(tweetss)\n",
    "    topic0 = []\n",
    "    topic1 = []\n",
    "    topic2 = []\n",
    "    topic3 = []\n",
    "    topic4 = []\n",
    "    \n",
    "    for topic in topics:\n",
    "        topic0.append(topic[0])\n",
    "        topic1.append(topic[1])\n",
    "        topic2.append(topic[2])\n",
    "        topic3.append(topic[3])\n",
    "        topic4.append(topic[4])\n",
    "        \n",
    "        \n",
    "    users[\"Topic0\"] = np.asarray(topic0)\n",
    "    users[\"Topic1\"] = np.asarray(topic1)\n",
    "    users[\"Topic2\"] = np.asarray(topic2)\n",
    "    users[\"Topic3\"] = np.asarray(topic3)\n",
    "    users[\"Topic4\"] = np.asarray(topic4)\n",
    "    \n",
    "    \n",
    "    return users\n",
    "\n",
    "\n",
    "\n",
    "\n",
    "\n",
    "\n",
    "def userSubSets(tweets_df):\n",
    "    user = ''\n",
    "    topics = []\n",
    "    for instance in tweets_df.user:\n",
    "        if(user != instance):\n",
    "            print(instance)\n",
    "            user = instance\n",
    "            actual_user =  tweets_df['user']== user\n",
    "            user_subset = tweets_df[actual_user]\n",
    "            topics.append(topicModeling(user_subset))\n",
    "        else:\n",
    "            continue\n",
    "            \n",
    "            \n",
    "    return topics\n",
    "            \n",
    "\n",
    "            \n",
    "            \n",
    "def topicModeling(user_subset):\n",
    "    tweets = Document(pd.DataFrame(user_subset))\n",
    "    id2word = corpora.Dictionary(tweets.data.clean_text)\n",
    "\n",
    "    # Create Corpus\n",
    "    texts = tweets.data.clean_text\n",
    "\n",
    "    # Term Document Frequency\n",
    "    corpus = [id2word.doc2bow(text) for text in texts]\n",
    "    \n",
    "    lda_model = gensim.models.ldamodel.LdaModel(corpus=corpus,\n",
    "                                           id2word=id2word,\n",
    "                                           num_topics=5, \n",
    "                                           random_state=100,\n",
    "                                           update_every=1,\n",
    "                                           chunksize=100,\n",
    "                                           passes=10,\n",
    "                                           alpha='auto',\n",
    "                                           per_word_topics=True)\n",
    "    \n",
    "    a = lda_model.get_topics()\n",
    "    vector = np.vectorize(np.float)\n",
    "    x = vector(a)\n",
    "    \n",
    "    print(lda_model.print_topics())\n",
    "    \n",
    "    \n",
    "    return a\n",
    "\n",
    "    \n",
    "    \n",
    "\n",
    "\n",
    "    \n",
    "    \n",
    "            \n",
    "        \n",
    "        \n",
    "    "
   ]
  },
  {
   "cell_type": "code",
   "execution_count": 159,
   "id": "637d1da1",
   "metadata": {
    "scrolled": true
   },
   "outputs": [
    {
     "name": "stderr",
     "output_type": "stream",
     "text": [
      "/usr/local/lib/python3.9/site-packages/ipykernel/ipkernel.py:283: DeprecationWarning: `should_run_async` will not call `transform_cell` automatically in the future. Please pass the result to `transformed_cell` argument and any exception that happen during thetransform in `preprocessing_exc_tuple` in IPython 7.17 and above.\n",
      "  and should_run_async(code)\n"
     ]
    },
    {
     "name": "stdout",
     "output_type": "stream",
     "text": [
      "themoonisironic\n",
      "1538 1538\n"
     ]
    },
    {
     "name": "stderr",
     "output_type": "stream",
     "text": [
      "<ipython-input-158-c79bb0d60958>:71: DeprecationWarning: `np.float` is a deprecated alias for the builtin `float`. To silence this warning, use `float` by itself. Doing this will not modify any behavior and is safe. If you specifically wanted the numpy scalar type, use `np.float64` here.\n",
      "Deprecated in NumPy 1.20; for more details and guidance: https://numpy.org/devdocs/release/1.20.0-notes.html#deprecations\n",
      "  vector = np.vectorize(np.float)\n"
     ]
    },
    {
     "name": "stdout",
     "output_type": "stream",
     "text": [
      "[(0, '0.035*\"u\" + 0.023*\"like\" + 0.022*\"stream\" + 0.020*\"srr\" + 0.017*\"s\" + 0.016*\"i\" + 0.013*\"love\" + 0.013*\"today\" + 0.012*\"play\" + 0.010*\"hear\"'), (1, '0.025*\"like\" + 0.021*\"fkn\" + 0.020*\"make\" + 0.019*\"i\" + 0.016*\"soraru\" + 0.014*\"be\" + 0.014*\"even\" + 0.014*\"look\" + 0.012*\"sound\" + 0.011*\"s\"'), (2, '0.021*\"S\" + 0.017*\"IS\" + 0.017*\"HE\" + 0.017*\"I\" + 0.015*\"good\" + 0.015*\"A\" + 0.014*\"THE\" + 0.013*\"WHAT\" + 0.013*\"IT\" + 0.013*\"T\"'), (3, '0.020*\"the\" + 0.018*\"to\" + 0.016*\"one\" + 0.015*\"say\" + 0.015*\"know\" + 0.012*\"sing\" + 0.012*\"like\" + 0.011*\"i\" + 0.010*\"show\" + 0.009*\"im\"'), (4, '0.029*\"i\" + 0.021*\"get\" + 0.021*\"want\" + 0.016*\"man\" + 0.015*\"go\" + 0.014*\"sakata\" + 0.013*\"watch\" + 0.012*\"chainsaw\" + 0.010*\"shxt\" + 0.010*\"every\"')]\n",
      "bbelita23\n",
      "719 719\n"
     ]
    },
    {
     "name": "stderr",
     "output_type": "stream",
     "text": [
      "<ipython-input-158-c79bb0d60958>:71: DeprecationWarning: `np.float` is a deprecated alias for the builtin `float`. To silence this warning, use `float` by itself. Doing this will not modify any behavior and is safe. If you specifically wanted the numpy scalar type, use `np.float64` here.\n",
      "Deprecated in NumPy 1.20; for more details and guidance: https://numpy.org/devdocs/release/1.20.0-notes.html#deprecations\n",
      "  vector = np.vectorize(np.float)\n"
     ]
    },
    {
     "name": "stdout",
     "output_type": "stream",
     "text": [
      "[(0, '0.024*\"No\" + 0.019*\"get\" + 0.018*\"si\" + 0.018*\"mas\" + 0.017*\"ano\" + 0.013*\"menos\" + 0.012*\"cbn\" + 0.012*\"mi\" + 0.012*\"flow\" + 0.012*\"objetivo\"'), (1, '0.033*\"que\" + 0.024*\"claim\" + 0.019*\"you\" + 0.015*\"por\" + 0.014*\"amo\" + 0.013*\"lo\" + 0.013*\"talk\" + 0.012*\"Asi\" + 0.012*\"pudo\" + 0.010*\"nadie\"'), (2, '0.032*\"love\" + 0.016*\"fuck\" + 0.012*\"bad\" + 0.011*\"sientas\" + 0.011*\"go\" + 0.011*\"away\" + 0.010*\"Year\" + 0.010*\"New\" + 0.010*\"Eve\" + 0.010*\"bunny\"'), (3, '0.021*\"recibir\" + 0.018*\"solo\" + 0.017*\"like\" + 0.015*\"Yo\" + 0.012*\"ser\" + 0.012*\"necesita\" + 0.011*\"Dios\" + 0.011*\"q\" + 0.011*\"l\" + 0.011*\"dejastes\"'), (4, '0.047*\"I\" + 0.022*\"los\" + 0.022*\"mood\" + 0.013*\"Me\" + 0.012*\"mio\" + 0.012*\"better\" + 0.011*\"lmao\" + 0.011*\"idgaf\" + 0.011*\"Frank\" + 0.011*\"Ocean\"')]\n",
      "CoraimaINegron\n",
      "118 118\n"
     ]
    },
    {
     "name": "stderr",
     "output_type": "stream",
     "text": [
      "<ipython-input-158-c79bb0d60958>:71: DeprecationWarning: `np.float` is a deprecated alias for the builtin `float`. To silence this warning, use `float` by itself. Doing this will not modify any behavior and is safe. If you specifically wanted the numpy scalar type, use `np.float64` here.\n",
      "Deprecated in NumPy 1.20; for more details and guidance: https://numpy.org/devdocs/release/1.20.0-notes.html#deprecations\n",
      "  vector = np.vectorize(np.float)\n"
     ]
    },
    {
     "name": "stdout",
     "output_type": "stream",
     "text": [
      "[(0, '0.035*\"mayor\" + 0.031*\"Bayamon\" + 0.020*\"ser\" + 0.017*\"Temblor\" + 0.016*\"edad\" + 0.016*\"hombre\" + 0.016*\"Rescataron\" + 0.016*\"Baja\" + 0.016*\"moderado\" + 0.016*\"Cabo\"'), (1, '0.018*\"Mas\" + 0.018*\"base\" + 0.018*\"estadounidenses\" + 0.018*\"Jose\" + 0.018*\"Molinelli\" + 0.012*\"La\" + 0.010*\"isla\" + 0.010*\"un\" + 0.010*\"hoy\" + 0.010*\"magnitud\"'), (2, '0.020*\"tan\" + 0.018*\"triste\" + 0.018*\"Esto\" + 0.011*\"de\" + 0.009*\"la\" + 0.007*\"magnitud\" + 0.007*\"vez\" + 0.005*\"No\" + 0.005*\"temblores\" + 0.005*\"las\"'), (3, '0.033*\"tsunami\" + 0.031*\"No\" + 0.029*\"Aviso\" + 0.025*\"PRELIMINAR\" + 0.025*\"Puerto\" + 0.025*\"Rico\" + 0.022*\"Islas\" + 0.022*\"Advertencia\" + 0.022*\"Vigilancia\" + 0.020*\"Virgenes\"'), (4, '0.030*\"de\" + 0.021*\"luego\" + 0.019*\"causados\" + 0.019*\"refugiados\" + 0.019*\"terremotos\" + 0.019*\"Mas\" + 0.019*\"danos\" + 0.015*\"los\" + 0.010*\"Es\" + 0.008*\"NO\"')]\n",
      "SJCiudadCapital\n",
      "216 216\n"
     ]
    },
    {
     "name": "stderr",
     "output_type": "stream",
     "text": [
      "<ipython-input-158-c79bb0d60958>:71: DeprecationWarning: `np.float` is a deprecated alias for the builtin `float`. To silence this warning, use `float` by itself. Doing this will not modify any behavior and is safe. If you specifically wanted the numpy scalar type, use `np.float64` here.\n",
      "Deprecated in NumPy 1.20; for more details and guidance: https://numpy.org/devdocs/release/1.20.0-notes.html#deprecations\n",
      "  vector = np.vectorize(np.float)\n"
     ]
    },
    {
     "name": "stdout",
     "output_type": "stream",
     "text": [
      "[(0, '0.061*\"alcalde\" + 0.059*\"de\" + 0.043*\"Juan\" + 0.042*\"San\" + 0.020*\"electo\" + 0.020*\"nuevo\" + 0.016*\"El\" + 0.015*\"capital\" + 0.014*\"Hoy\" + 0.013*\"ciudad\"'), (1, '0.054*\"de\" + 0.021*\"San\" + 0.016*\"la\" + 0.015*\"Covid19\" + 0.013*\"el\" + 0.011*\"Sebastian\" + 0.010*\"Recuperando\" + 0.010*\"Fiestas\" + 0.010*\"Calle\" + 0.009*\"manana\"'), (2, '0.045*\"Hoy\" + 0.039*\"en\" + 0.037*\"mucha\" + 0.036*\"comenzamos\" + 0.019*\"hace\" + 0.019*\"gente\" + 0.018*\"Tengo\" + 0.018*\"buena\" + 0.018*\"Dios\" + 0.018*\"etapa\"'), (3, '0.042*\"alcalde\" + 0.040*\"electo\" + 0.036*\"de\" + 0.033*\"actos\" + 0.033*\"juramentacion\" + 0.029*\"En\" + 0.023*\"participar\" + 0.022*\"encuentra\" + 0.022*\"teatro\" + 0.022*\"Tapia\"'), (4, '0.039*\"de\" + 0.016*\"publico\" + 0.015*\"limpieza\" + 0.014*\"ciudad\" + 0.014*\"Es\" + 0.014*\"un\" + 0.014*\"amurallada\" + 0.014*\"probado\" + 0.014*\"trabajador\" + 0.014*\"servidor\"')]\n",
      "Angelicv_G\n",
      "1182 1182\n"
     ]
    },
    {
     "name": "stderr",
     "output_type": "stream",
     "text": [
      "<ipython-input-158-c79bb0d60958>:71: DeprecationWarning: `np.float` is a deprecated alias for the builtin `float`. To silence this warning, use `float` by itself. Doing this will not modify any behavior and is safe. If you specifically wanted the numpy scalar type, use `np.float64` here.\n",
      "Deprecated in NumPy 1.20; for more details and guidance: https://numpy.org/devdocs/release/1.20.0-notes.html#deprecations\n",
      "  vector = np.vectorize(np.float)\n"
     ]
    },
    {
     "name": "stdout",
     "output_type": "stream",
     "text": [
      "[(0, '0.017*\"El\" + 0.009*\"love\" + 0.009*\"get\" + 0.007*\"la\" + 0.006*\"estan\" + 0.006*\"van\" + 0.005*\"amp\" + 0.005*\"stop\" + 0.005*\"THE\" + 0.005*\"be\"'), (1, '0.019*\"I\" + 0.010*\"This\" + 0.009*\"de\" + 0.008*\"A\" + 0.008*\"say\" + 0.007*\"solo\" + 0.007*\"q\" + 0.006*\"Hoy\" + 0.006*\"tambien\" + 0.006*\"it\"'), (2, '0.018*\"La\" + 0.015*\"la\" + 0.010*\"el\" + 0.008*\"Puerto\" + 0.007*\"Me\" + 0.007*\"No\" + 0.007*\"dia\" + 0.007*\"Rico\" + 0.007*\"see\" + 0.006*\"bien\"'), (3, '0.011*\"the\" + 0.010*\"gt\" + 0.009*\"I\" + 0.009*\"pa\" + 0.008*\"one\" + 0.008*\"mas\" + 0.008*\"to\" + 0.007*\"Yo\" + 0.007*\"make\" + 0.006*\"Los\"'), (4, '0.030*\"de\" + 0.025*\"que\" + 0.015*\"si\" + 0.010*\"en\" + 0.009*\"Que\" + 0.007*\"gente\" + 0.007*\"hace\" + 0.007*\"tu\" + 0.007*\"ano\" + 0.007*\"Si\"')]\n",
      "__lfc7\n",
      "3133 3133\n"
     ]
    },
    {
     "name": "stderr",
     "output_type": "stream",
     "text": [
      "<ipython-input-158-c79bb0d60958>:71: DeprecationWarning: `np.float` is a deprecated alias for the builtin `float`. To silence this warning, use `float` by itself. Doing this will not modify any behavior and is safe. If you specifically wanted the numpy scalar type, use `np.float64` here.\n",
      "Deprecated in NumPy 1.20; for more details and guidance: https://numpy.org/devdocs/release/1.20.0-notes.html#deprecations\n",
      "  vector = np.vectorize(np.float)\n",
      "<ipython-input-158-c79bb0d60958>:71: DeprecationWarning: `np.float` is a deprecated alias for the builtin `float`. To silence this warning, use `float` by itself. Doing this will not modify any behavior and is safe. If you specifically wanted the numpy scalar type, use `np.float64` here.\n",
      "Deprecated in NumPy 1.20; for more details and guidance: https://numpy.org/devdocs/release/1.20.0-notes.html#deprecations\n",
      "  vector = np.vectorize(np.float)\n"
     ]
    },
    {
     "name": "stdout",
     "output_type": "stream",
     "text": [
      "[(0, '0.035*\"que\" + 0.026*\"de\" + 0.021*\"No\" + 0.014*\"si\" + 0.014*\"Que\" + 0.012*\"en\" + 0.009*\"tener\" + 0.009*\"Si\" + 0.008*\"gente\" + 0.008*\"casa\"'), (1, '0.013*\"PR\" + 0.009*\"Puerto\" + 0.008*\"The\" + 0.008*\"JAJAJAJA\" + 0.008*\"Rico\" + 0.007*\"You\" + 0.007*\"ME\" + 0.007*\"SI\" + 0.007*\"Ser\" + 0.007*\"mundo\"'), (2, '0.021*\"Yo\" + 0.014*\"mas\" + 0.014*\"Me\" + 0.013*\"pq\" + 0.011*\"clase\" + 0.010*\"pa\" + 0.008*\"La\" + 0.008*\"ser\" + 0.008*\"puedo\" + 0.007*\"tan\"'), (3, '0.015*\"NO\" + 0.015*\"A\" + 0.012*\"Y\" + 0.010*\"dia\" + 0.010*\"QUE\" + 0.009*\"I\" + 0.008*\"alguien\" + 0.008*\"cc\" + 0.007*\"first\" + 0.007*\"Ya\"'), (4, '0.015*\"El\" + 0.014*\"de\" + 0.011*\"voy\" + 0.010*\"En\" + 0.010*\"la\" + 0.009*\"bien\" + 0.008*\"el\" + 0.008*\"vida\" + 0.007*\"examen\" + 0.007*\"hoy\"')]\n",
      "Enrique94494039\n",
      "2 2\n",
      "[(0, '0.167*\"Proto\" + 0.167*\"amp\" + 0.167*\"Tec\" + 0.167*\"Sorteo\" + 0.167*\"Millon\" + 0.167*\"Hw\"'), (1, '0.167*\"Proto\" + 0.167*\"Tec\" + 0.167*\"Sorteo\" + 0.167*\"Millon\" + 0.167*\"amp\" + 0.167*\"Hw\"'), (2, '0.167*\"Hw\" + 0.167*\"Millon\" + 0.167*\"Sorteo\" + 0.167*\"amp\" + 0.167*\"Tec\" + 0.167*\"Proto\"'), (3, '0.167*\"Proto\" + 0.167*\"Tec\" + 0.167*\"Millon\" + 0.167*\"amp\" + 0.167*\"Hw\" + 0.167*\"Sorteo\"'), (4, '0.167*\"Sorteo\" + 0.167*\"Hw\" + 0.167*\"Tec\" + 0.167*\"amp\" + 0.167*\"Proto\" + 0.167*\"Millon\"')]\n",
      "karywasabi13\n",
      "2659 2659\n"
     ]
    },
    {
     "name": "stderr",
     "output_type": "stream",
     "text": [
      "<ipython-input-158-c79bb0d60958>:71: DeprecationWarning: `np.float` is a deprecated alias for the builtin `float`. To silence this warning, use `float` by itself. Doing this will not modify any behavior and is safe. If you specifically wanted the numpy scalar type, use `np.float64` here.\n",
      "Deprecated in NumPy 1.20; for more details and guidance: https://numpy.org/devdocs/release/1.20.0-notes.html#deprecations\n",
      "  vector = np.vectorize(np.float)\n"
     ]
    },
    {
     "name": "stdout",
     "output_type": "stream",
     "text": [
      "[(0, '0.044*\"que\" + 0.036*\"No\" + 0.016*\"La\" + 0.015*\"El\" + 0.015*\"jiji\" + 0.013*\"es\" + 0.012*\"igual\" + 0.012*\"da\" + 0.009*\"pensando\" + 0.008*\"like\"'), (1, '0.035*\"quiero\" + 0.022*\"bien\" + 0.019*\"Yo\" + 0.018*\"cuki\" + 0.018*\"pa\" + 0.017*\"Quiero\" + 0.014*\"ser\" + 0.012*\"Si\" + 0.011*\"pelo\" + 0.009*\"cuarentena\"'), (2, '0.033*\"si\" + 0.031*\"Me\" + 0.013*\"bella\" + 0.012*\"Que\" + 0.012*\"Y\" + 0.010*\"hacer\" + 0.010*\"cabron\" + 0.009*\"sabes\" + 0.009*\"mundo\" + 0.008*\"nena\"'), (3, '0.021*\"de\" + 0.020*\"gt\" + 0.017*\"tan\" + 0.016*\"gracias\" + 0.012*\"Tu\" + 0.012*\"Te\" + 0.011*\"amo\" + 0.011*\"jaja\" + 0.010*\"diablo\" + 0.009*\"JAJAJAJAJAJA\"'), (4, '0.085*\"lt\" + 0.073*\"3\" + 0.044*\"mas\" + 0.016*\"baby\" + 0.011*\"Diablo\" + 0.011*\"bro\" + 0.009*\"alguien\" + 0.009*\"dia\" + 0.009*\"voy\" + 0.009*\"Como\"')]\n",
      "ArekCell\n",
      "187 187\n"
     ]
    },
    {
     "name": "stderr",
     "output_type": "stream",
     "text": [
      "<ipython-input-158-c79bb0d60958>:71: DeprecationWarning: `np.float` is a deprecated alias for the builtin `float`. To silence this warning, use `float` by itself. Doing this will not modify any behavior and is safe. If you specifically wanted the numpy scalar type, use `np.float64` here.\n",
      "Deprecated in NumPy 1.20; for more details and guidance: https://numpy.org/devdocs/release/1.20.0-notes.html#deprecations\n",
      "  vector = np.vectorize(np.float)\n"
     ]
    },
    {
     "name": "stdout",
     "output_type": "stream",
     "text": [
      "[(0, '0.026*\"amp\" + 0.024*\"Like\" + 0.021*\"us\" + 0.016*\"CRO\" + 0.015*\"GIVEAWAY\" + 0.015*\"RT\" + 0.015*\"Exchange\" + 0.013*\"No\" + 0.013*\"pick\" + 0.013*\"Follow\"'), (1, '0.019*\"Live\" + 0.019*\"Video\" + 0.016*\"talk\" + 0.015*\"CEO\" + 0.014*\"AMA\" + 0.013*\"PM\" + 0.013*\"Let\" + 0.013*\"amp\" + 0.012*\"YouTube\" + 0.012*\"in\"'), (2, '0.024*\"The\" + 0.021*\"to\" + 0.017*\"card\" + 0.017*\"Up\" + 0.016*\"0\" + 0.015*\"back\" + 0.015*\"gift\" + 0.015*\"include\" + 0.014*\"Available\" + 0.012*\"Exchange\"'), (3, '0.035*\"amp\" + 0.025*\"App\" + 0.023*\"fee\" + 0.022*\"Buy\" + 0.019*\"list\" + 0.019*\"cost\" + 0.019*\"true\" + 0.019*\"sell\" + 0.018*\"detail\" + 0.014*\"Check\"'), (4, '0.027*\"Syndicate\" + 0.024*\"Stake\" + 0.019*\"The\" + 0.018*\"BTC\" + 0.016*\"leave\" + 0.016*\"on\" + 0.015*\"Sign\" + 0.011*\"subscribe\" + 0.010*\"0\" + 0.010*\"Special\"')]\n",
      "_sarielys_\n",
      "2567 2567\n"
     ]
    },
    {
     "name": "stderr",
     "output_type": "stream",
     "text": [
      "<ipython-input-158-c79bb0d60958>:71: DeprecationWarning: `np.float` is a deprecated alias for the builtin `float`. To silence this warning, use `float` by itself. Doing this will not modify any behavior and is safe. If you specifically wanted the numpy scalar type, use `np.float64` here.\n",
      "Deprecated in NumPy 1.20; for more details and guidance: https://numpy.org/devdocs/release/1.20.0-notes.html#deprecations\n",
      "  vector = np.vectorize(np.float)\n"
     ]
    },
    {
     "name": "stdout",
     "output_type": "stream",
     "text": [
      "[(0, '0.021*\"que\" + 0.017*\"gt\" + 0.017*\"de\" + 0.011*\"mas\" + 0.011*\"s\" + 0.010*\"to\" + 0.009*\"people\" + 0.008*\"Puerto\" + 0.008*\"Rico\" + 0.007*\"This\"'), (1, '0.009*\"ever\" + 0.009*\"know\" + 0.008*\"and\" + 0.008*\"one\" + 0.008*\"need\" + 0.007*\"El\" + 0.007*\"la\" + 0.006*\"Y\" + 0.006*\"No\" + 0.006*\"en\"'), (2, '0.016*\"A\" + 0.012*\"say\" + 0.012*\"si\" + 0.011*\"The\" + 0.010*\"u\" + 0.010*\"amp\" + 0.009*\"Si\" + 0.007*\"time\" + 0.007*\"baby\" + 0.006*\"back\"'), (3, '0.008*\"NO\" + 0.006*\"quiero\" + 0.006*\"por\" + 0.006*\"miss\" + 0.006*\"HER\" + 0.005*\"nt\" + 0.005*\"ME\" + 0.005*\"in\" + 0.005*\"guy\" + 0.005*\"take\"'), (4, '0.055*\"I\" + 0.019*\"like\" + 0.013*\"make\" + 0.013*\"go\" + 0.012*\"get\" + 0.011*\"be\" + 0.010*\"you\" + 0.010*\"want\" + 0.008*\"the\" + 0.007*\"love\"')]\n",
      "icarusio\n",
      "2764 2764\n"
     ]
    },
    {
     "name": "stderr",
     "output_type": "stream",
     "text": [
      "<ipython-input-158-c79bb0d60958>:71: DeprecationWarning: `np.float` is a deprecated alias for the builtin `float`. To silence this warning, use `float` by itself. Doing this will not modify any behavior and is safe. If you specifically wanted the numpy scalar type, use `np.float64` here.\n",
      "Deprecated in NumPy 1.20; for more details and guidance: https://numpy.org/devdocs/release/1.20.0-notes.html#deprecations\n",
      "  vector = np.vectorize(np.float)\n"
     ]
    },
    {
     "name": "stdout",
     "output_type": "stream",
     "text": [
      "[(0, '0.018*\"pa\" + 0.011*\"bien\" + 0.011*\"Jajaja\" + 0.010*\"Lo\" + 0.009*\"mismo\" + 0.009*\"va\" + 0.008*\"Hoy\" + 0.008*\"hoy\" + 0.008*\"kbrn\" + 0.007*\"Yo\"'), (1, '0.057*\"que\" + 0.018*\"mas\" + 0.014*\"Es\" + 0.012*\"Me\" + 0.010*\"en\" + 0.009*\"Mira\" + 0.009*\"el\" + 0.008*\"Ahora\" + 0.008*\"ver\" + 0.008*\"Esta\"'), (2, '0.062*\"de\" + 0.019*\"la\" + 0.019*\"Que\" + 0.017*\"La\" + 0.012*\"Los\" + 0.012*\"Si\" + 0.012*\"Pero\" + 0.011*\"Ya\" + 0.011*\"Paquito\" + 0.011*\"De\"'), (3, '0.031*\"si\" + 0.023*\"Si\" + 0.013*\"Y\" + 0.010*\"solo\" + 0.010*\"estan\" + 0.009*\"Cuando\" + 0.008*\"gente\" + 0.008*\"le\" + 0.007*\"A\" + 0.007*\"500\"'), (4, '0.028*\"El\" + 0.026*\"No\" + 0.019*\"los\" + 0.019*\"de\" + 0.012*\"En\" + 0.010*\"el\" + 0.009*\"dice\" + 0.009*\"ser\" + 0.007*\"NO\" + 0.007*\"puede\"')]\n",
      "KeylimarBirriel\n",
      "2740 2740\n"
     ]
    },
    {
     "name": "stderr",
     "output_type": "stream",
     "text": [
      "<ipython-input-158-c79bb0d60958>:71: DeprecationWarning: `np.float` is a deprecated alias for the builtin `float`. To silence this warning, use `float` by itself. Doing this will not modify any behavior and is safe. If you specifically wanted the numpy scalar type, use `np.float64` here.\n",
      "Deprecated in NumPy 1.20; for more details and guidance: https://numpy.org/devdocs/release/1.20.0-notes.html#deprecations\n",
      "  vector = np.vectorize(np.float)\n"
     ]
    },
    {
     "name": "stdout",
     "output_type": "stream",
     "text": [
      "[(0, '0.018*\"pa\" + 0.015*\"dias\" + 0.014*\"gente\" + 0.012*\"La\" + 0.011*\"QUE\" + 0.011*\"tan\" + 0.010*\"quiere\" + 0.009*\"alguien\" + 0.008*\"Y\" + 0.008*\"LA\"'), (1, '0.024*\"cuarentena\" + 0.015*\"bien\" + 0.013*\"casa\" + 0.013*\"la\" + 0.012*\"Me\" + 0.011*\"Mi\" + 0.010*\"ser\" + 0.009*\"q\" + 0.009*\"voy\" + 0.008*\"a\"'), (2, '0.024*\"Yo\" + 0.023*\"si\" + 0.017*\"El\" + 0.015*\"nadie\" + 0.013*\"mejor\" + 0.011*\"Cuando\" + 0.011*\"ver\" + 0.008*\"NO\" + 0.008*\"de\" + 0.008*\"veces\"'), (3, '0.033*\"quiero\" + 0.019*\"dia\" + 0.018*\"playa\" + 0.012*\"Que\" + 0.012*\"amo\" + 0.011*\"tener\" + 0.010*\"Te\" + 0.010*\"Si\" + 0.010*\"el\" + 0.010*\"Ya\"'), (4, '0.039*\"que\" + 0.029*\"asi\" + 0.023*\"mas\" + 0.018*\"No\" + 0.017*\"hacer\" + 0.016*\"I\" + 0.011*\"A\" + 0.008*\"sabes\" + 0.008*\"siempre\" + 0.007*\"conmigo\"')]\n",
      "valeilu4\n",
      "1837 1837\n"
     ]
    },
    {
     "name": "stderr",
     "output_type": "stream",
     "text": [
      "<ipython-input-158-c79bb0d60958>:71: DeprecationWarning: `np.float` is a deprecated alias for the builtin `float`. To silence this warning, use `float` by itself. Doing this will not modify any behavior and is safe. If you specifically wanted the numpy scalar type, use `np.float64` here.\n",
      "Deprecated in NumPy 1.20; for more details and guidance: https://numpy.org/devdocs/release/1.20.0-notes.html#deprecations\n",
      "  vector = np.vectorize(np.float)\n",
      "<ipython-input-158-c79bb0d60958>:71: DeprecationWarning: `np.float` is a deprecated alias for the builtin `float`. To silence this warning, use `float` by itself. Doing this will not modify any behavior and is safe. If you specifically wanted the numpy scalar type, use `np.float64` here.\n",
      "Deprecated in NumPy 1.20; for more details and guidance: https://numpy.org/devdocs/release/1.20.0-notes.html#deprecations\n",
      "  vector = np.vectorize(np.float)\n"
     ]
    },
    {
     "name": "stdout",
     "output_type": "stream",
     "text": [
      "[(0, '0.014*\"Yo\" + 0.012*\"ano\" + 0.012*\"de\" + 0.012*\"vez\" + 0.011*\"en\" + 0.010*\"ver\" + 0.009*\"trabajo\" + 0.009*\"El\" + 0.008*\"Puerto\" + 0.008*\"ir\"'), (1, '0.021*\"de\" + 0.021*\"que\" + 0.012*\"si\" + 0.010*\"la\" + 0.010*\"mas\" + 0.009*\"pa\" + 0.009*\"da\" + 0.008*\"No\" + 0.008*\"Si\" + 0.007*\"gente\"'), (2, '0.036*\"I\" + 0.014*\"like\" + 0.012*\"el\" + 0.011*\"ser\" + 0.010*\"siempre\" + 0.009*\"A\" + 0.007*\"get\" + 0.006*\"something\" + 0.006*\"do\" + 0.006*\"WHY\"'), (3, '0.015*\"hoy\" + 0.008*\"cuenta\" + 0.007*\"personas\" + 0.007*\"los\" + 0.007*\"se\" + 0.007*\"fuck\" + 0.007*\"Por\" + 0.006*\"Disney\" + 0.006*\"you\" + 0.006*\"hahahahahaha\"'), (4, '0.012*\"alguien\" + 0.010*\"the\" + 0.010*\"The\" + 0.010*\"dias\" + 0.008*\"s\" + 0.008*\"un\" + 0.008*\"QUE\" + 0.007*\"NO\" + 0.007*\"quiero\" + 0.007*\"u\"')]\n",
      "teacup_talk\n",
      "38 38\n",
      "[(0, '0.033*\"know\" + 0.033*\"like\" + 0.033*\"ur\" + 0.033*\"A\" + 0.033*\"You\" + 0.018*\"s\" + 0.018*\"World\" + 0.018*\"make\" + 0.018*\"world\" + 0.018*\"C\"'), (1, '0.045*\"choose\" + 0.025*\"course\" + 0.025*\"How\" + 0.025*\"Choose\" + 0.025*\"ly\" + 0.025*\"ur\" + 0.025*\"whether\" + 0.025*\"ever\" + 0.025*\"want\" + 0.025*\"something\"'), (2, '0.034*\"like\" + 0.034*\"really\" + 0.034*\"secret\" + 0.034*\"Though\" + 0.034*\"Please\" + 0.034*\"gallon\" + 0.034*\"be\" + 0.034*\"ways\" + 0.034*\"The\" + 0.034*\"amid\"'), (3, '0.113*\"amp\" + 0.032*\"We\" + 0.032*\"get\" + 0.026*\"A\" + 0.026*\"B\" + 0.020*\"say\" + 0.020*\"amid\" + 0.020*\"GoodCause\" + 0.020*\"hear\" + 0.020*\"List\"'), (4, '0.043*\"I\" + 0.032*\"u\" + 0.022*\"Hope\" + 0.022*\"ur\" + 0.022*\"amp\" + 0.012*\"amaze\" + 0.012*\"s\" + 0.012*\"notice\" + 0.012*\"This\" + 0.012*\"forget\"')]\n",
      "pelromaine\n",
      "1933 1933\n"
     ]
    },
    {
     "name": "stderr",
     "output_type": "stream",
     "text": [
      "<ipython-input-158-c79bb0d60958>:71: DeprecationWarning: `np.float` is a deprecated alias for the builtin `float`. To silence this warning, use `float` by itself. Doing this will not modify any behavior and is safe. If you specifically wanted the numpy scalar type, use `np.float64` here.\n",
      "Deprecated in NumPy 1.20; for more details and guidance: https://numpy.org/devdocs/release/1.20.0-notes.html#deprecations\n",
      "  vector = np.vectorize(np.float)\n"
     ]
    },
    {
     "name": "stdout",
     "output_type": "stream",
     "text": [
      "[(0, '0.018*\"No\" + 0.018*\"que\" + 0.012*\"cosas\" + 0.011*\"Si\" + 0.011*\"pa\" + 0.010*\"quiero\" + 0.010*\"Te\" + 0.010*\"muchas\" + 0.009*\"puneta\" + 0.009*\"nadie\"'), (1, '0.034*\"I\" + 0.018*\"like\" + 0.013*\"de\" + 0.011*\"SE\" + 0.011*\"Me\" + 0.011*\"love\" + 0.010*\"people\" + 0.009*\"the\" + 0.009*\"This\" + 0.008*\"real\"'), (2, '0.032*\"si\" + 0.012*\"Cuando\" + 0.012*\"ver\" + 0.011*\"puedo\" + 0.010*\"ser\" + 0.009*\"amigas\" + 0.008*\"gente\" + 0.008*\"bien\" + 0.008*\"I\" + 0.007*\"siempre\"'), (3, '0.041*\"Yo\" + 0.015*\"La\" + 0.013*\"El\" + 0.013*\"I\" + 0.008*\"nadie\" + 0.008*\"tuitear\" + 0.008*\"siguen\" + 0.007*\"carajo\" + 0.007*\"retuitear\" + 0.007*\"gatxs\"'), (4, '0.018*\"mas\" + 0.011*\"cabron\" + 0.010*\"nunca\" + 0.009*\"la\" + 0.008*\"Bad\" + 0.008*\"cancion\" + 0.007*\"palo\" + 0.007*\"Bunny\" + 0.007*\"alguien\" + 0.007*\"Al\"')]\n",
      "MColonCruz\n",
      "1312 1312\n"
     ]
    },
    {
     "name": "stderr",
     "output_type": "stream",
     "text": [
      "<ipython-input-158-c79bb0d60958>:71: DeprecationWarning: `np.float` is a deprecated alias for the builtin `float`. To silence this warning, use `float` by itself. Doing this will not modify any behavior and is safe. If you specifically wanted the numpy scalar type, use `np.float64` here.\n",
      "Deprecated in NumPy 1.20; for more details and guidance: https://numpy.org/devdocs/release/1.20.0-notes.html#deprecations\n",
      "  vector = np.vectorize(np.float)\n"
     ]
    },
    {
     "name": "stdout",
     "output_type": "stream",
     "text": [
      "[(0, '0.019*\"Puerto\" + 0.019*\"the\" + 0.017*\"Rico\" + 0.015*\"do\" + 0.014*\"nt\" + 0.012*\"s\" + 0.011*\"say\" + 0.008*\"take\" + 0.007*\"press\" + 0.006*\"right\"'), (1, '0.018*\"They\" + 0.013*\"I\" + 0.012*\"This\" + 0.010*\"become\" + 0.009*\"mas\" + 0.009*\"dias\" + 0.008*\"British\" + 0.008*\"away\" + 0.008*\"release\" + 0.008*\"voters\"'), (2, '0.016*\"personas\" + 0.015*\"de\" + 0.015*\"ano\" + 0.015*\"la\" + 0.014*\"locales\" + 0.011*\"que\" + 0.007*\"h\" + 0.007*\"bienes\" + 0.007*\"efecto\" + 0.007*\"economia\"'), (3, '0.021*\"de\" + 0.012*\"A\" + 0.011*\"En\" + 0.010*\"coronavirus\" + 0.009*\"No\" + 0.008*\"que\" + 0.008*\"hace\" + 0.007*\"Un\" + 0.007*\"a\" + 0.007*\"pm\"'), (4, '0.039*\"de\" + 0.020*\"El\" + 0.018*\"vez\" + 0.017*\"la\" + 0.013*\"estan\" + 0.012*\"violencia\" + 0.012*\"mujer\" + 0.012*\"comunidad\" + 0.011*\"mayor\" + 0.011*\"silencio\"')]\n",
      "PaganShay\n",
      "2090 2090\n"
     ]
    },
    {
     "name": "stderr",
     "output_type": "stream",
     "text": [
      "<ipython-input-158-c79bb0d60958>:71: DeprecationWarning: `np.float` is a deprecated alias for the builtin `float`. To silence this warning, use `float` by itself. Doing this will not modify any behavior and is safe. If you specifically wanted the numpy scalar type, use `np.float64` here.\n",
      "Deprecated in NumPy 1.20; for more details and guidance: https://numpy.org/devdocs/release/1.20.0-notes.html#deprecations\n",
      "  vector = np.vectorize(np.float)\n",
      "<ipython-input-158-c79bb0d60958>:71: DeprecationWarning: `np.float` is a deprecated alias for the builtin `float`. To silence this warning, use `float` by itself. Doing this will not modify any behavior and is safe. If you specifically wanted the numpy scalar type, use `np.float64` here.\n",
      "Deprecated in NumPy 1.20; for more details and guidance: https://numpy.org/devdocs/release/1.20.0-notes.html#deprecations\n",
      "  vector = np.vectorize(np.float)\n"
     ]
    },
    {
     "name": "stdout",
     "output_type": "stream",
     "text": [
      "[(0, '0.028*\"pa\" + 0.019*\"Me\" + 0.016*\"quiero\" + 0.015*\"Que\" + 0.014*\"asi\" + 0.012*\"trabajo\" + 0.010*\"mas\" + 0.009*\"hacer\" + 0.009*\"ir\" + 0.009*\"dias\"'), (1, '0.054*\"que\" + 0.035*\"de\" + 0.016*\"No\" + 0.013*\"hoy\" + 0.012*\"q\" + 0.011*\"bien\" + 0.011*\"Si\" + 0.010*\"dia\" + 0.009*\"pa\" + 0.008*\"Mi\"'), (2, '0.033*\"si\" + 0.030*\"Yo\" + 0.019*\"la\" + 0.015*\"ahora\" + 0.011*\"mas\" + 0.011*\"ver\" + 0.010*\"tan\" + 0.009*\"Bad\" + 0.008*\"Bunny\" + 0.007*\"quiero\"'), (3, '0.025*\"gente\" + 0.015*\"A\" + 0.014*\"El\" + 0.013*\"voy\" + 0.012*\"dormir\" + 0.011*\"casa\" + 0.010*\"tener\" + 0.010*\"Y\" + 0.009*\"salir\" + 0.008*\"jajajaja\"'), (4, '0.017*\"mejor\" + 0.014*\"vida\" + 0.011*\"La\" + 0.010*\"mas\" + 0.009*\"siempre\" + 0.008*\"ustedes\" + 0.008*\"veo\" + 0.008*\"En\" + 0.007*\"temblor\" + 0.007*\"es\"')]\n",
      "Badillo83\n",
      "1 1\n",
      "[(0, '0.125*\"chance\" + 0.125*\"This\" + 0.125*\"RT\" + 0.125*\"win\" + 0.125*\"way\" + 0.125*\"inspire\" + 0.125*\"controllers\" + 0.125*\"Follow\"'), (1, '0.125*\"inspire\" + 0.125*\"controllers\" + 0.125*\"way\" + 0.125*\"Follow\" + 0.125*\"win\" + 0.125*\"RT\" + 0.125*\"This\" + 0.125*\"chance\"'), (2, '0.125*\"chance\" + 0.125*\"RT\" + 0.125*\"This\" + 0.125*\"controllers\" + 0.125*\"way\" + 0.125*\"Follow\" + 0.125*\"win\" + 0.125*\"inspire\"'), (3, '0.125*\"chance\" + 0.125*\"Follow\" + 0.125*\"way\" + 0.125*\"win\" + 0.125*\"This\" + 0.125*\"RT\" + 0.125*\"inspire\" + 0.125*\"controllers\"'), (4, '0.125*\"chance\" + 0.125*\"This\" + 0.125*\"win\" + 0.125*\"Follow\" + 0.125*\"inspire\" + 0.125*\"RT\" + 0.125*\"controllers\" + 0.125*\"way\"')]\n",
      "lapatronski\n",
      "2744 2744\n"
     ]
    },
    {
     "name": "stderr",
     "output_type": "stream",
     "text": [
      "<ipython-input-158-c79bb0d60958>:71: DeprecationWarning: `np.float` is a deprecated alias for the builtin `float`. To silence this warning, use `float` by itself. Doing this will not modify any behavior and is safe. If you specifically wanted the numpy scalar type, use `np.float64` here.\n",
      "Deprecated in NumPy 1.20; for more details and guidance: https://numpy.org/devdocs/release/1.20.0-notes.html#deprecations\n",
      "  vector = np.vectorize(np.float)\n"
     ]
    },
    {
     "name": "stdout",
     "output_type": "stream",
     "text": [
      "[(0, '0.054*\"que\" + 0.023*\"nadie\" + 0.017*\"alguien\" + 0.017*\"tener\" + 0.015*\"gente\" + 0.014*\"voy\" + 0.013*\"siempre\" + 0.012*\"la\" + 0.011*\"personas\" + 0.010*\"tan\"'), (1, '0.020*\"persona\" + 0.016*\"Si\" + 0.016*\"amp\" + 0.014*\"gt\" + 0.013*\"mejor\" + 0.013*\"A\" + 0.012*\"Que\" + 0.010*\"rico\" + 0.010*\"NO\" + 0.010*\"QUE\"'), (2, '0.062*\"si\" + 0.021*\"No\" + 0.017*\"ganas\" + 0.009*\"feliz\" + 0.009*\"na\" + 0.009*\"contigo\" + 0.008*\"vez\" + 0.007*\"vas\" + 0.007*\"van\" + 0.007*\"saber\"'), (3, '0.027*\"bien\" + 0.018*\"q\" + 0.018*\"vida\" + 0.014*\"te\" + 0.014*\"I\" + 0.013*\"cosas\" + 0.013*\"nunca\" + 0.009*\"Dios\" + 0.008*\"cuenta\" + 0.008*\"hacer\"'), (4, '0.026*\"quiero\" + 0.026*\"pa\" + 0.026*\"mas\" + 0.019*\"de\" + 0.019*\"ser\" + 0.018*\"Yo\" + 0.013*\"El\" + 0.011*\"solo\" + 0.010*\"dia\" + 0.010*\"gusta\"')]\n",
      "koberayou\n",
      "2562 2562\n"
     ]
    },
    {
     "name": "stderr",
     "output_type": "stream",
     "text": [
      "<ipython-input-158-c79bb0d60958>:71: DeprecationWarning: `np.float` is a deprecated alias for the builtin `float`. To silence this warning, use `float` by itself. Doing this will not modify any behavior and is safe. If you specifically wanted the numpy scalar type, use `np.float64` here.\n",
      "Deprecated in NumPy 1.20; for more details and guidance: https://numpy.org/devdocs/release/1.20.0-notes.html#deprecations\n",
      "  vector = np.vectorize(np.float)\n"
     ]
    },
    {
     "name": "stdout",
     "output_type": "stream",
     "text": [
      "[(0, '0.024*\"get\" + 0.014*\"like\" + 0.011*\"A\" + 0.008*\"look\" + 0.008*\"want\" + 0.007*\"point\" + 0.007*\"amp\" + 0.006*\"Juice\" + 0.006*\"MAN\" + 0.005*\"via\"'), (1, '0.037*\"I\" + 0.018*\"Kobe\" + 0.012*\"say\" + 0.011*\"s\" + 0.011*\"see\" + 0.010*\"The\" + 0.007*\"When\" + 0.007*\"day\" + 0.006*\"shit\" + 0.006*\"time\"'), (2, '0.031*\"the\" + 0.014*\"go\" + 0.014*\"make\" + 0.013*\"This\" + 0.012*\"game\" + 0.011*\"que\" + 0.009*\"EXACT\" + 0.009*\"today\" + 0.008*\"win\" + 0.008*\"el\"'), (3, '0.019*\"Messi\" + 0.016*\"de\" + 0.010*\"take\" + 0.009*\"en\" + 0.009*\"would\" + 0.009*\"back\" + 0.006*\"come\" + 0.006*\"need\" + 0.006*\"be\" + 0.006*\"Que\"'), (4, '0.014*\"va\" + 0.014*\"still\" + 0.013*\"si\" + 0.012*\"mas\" + 0.010*\"No\" + 0.010*\"Lakers\" + 0.007*\"Puerto\" + 0.007*\"people\" + 0.007*\"ver\" + 0.006*\"let\"')]\n",
      "IZayasI\n",
      "516 516\n"
     ]
    },
    {
     "name": "stderr",
     "output_type": "stream",
     "text": [
      "<ipython-input-158-c79bb0d60958>:71: DeprecationWarning: `np.float` is a deprecated alias for the builtin `float`. To silence this warning, use `float` by itself. Doing this will not modify any behavior and is safe. If you specifically wanted the numpy scalar type, use `np.float64` here.\n",
      "Deprecated in NumPy 1.20; for more details and guidance: https://numpy.org/devdocs/release/1.20.0-notes.html#deprecations\n",
      "  vector = np.vectorize(np.float)\n"
     ]
    },
    {
     "name": "stdout",
     "output_type": "stream",
     "text": [
      "[(0, '0.029*\"I\" + 0.024*\"God\" + 0.012*\"se\" + 0.012*\"Es\" + 0.011*\"thank\" + 0.011*\"Lo\" + 0.010*\"bless\" + 0.009*\"Just\" + 0.009*\"finish\" + 0.009*\"every\"'), (1, '0.019*\"the\" + 0.016*\"breath\" + 0.012*\"El\" + 0.012*\"Gracias\" + 0.011*\"Dios\" + 0.011*\"en\" + 0.011*\"do\" + 0.011*\"tiempo\" + 0.010*\"Pero\" + 0.010*\"that\"'), (2, '0.020*\"you\" + 0.020*\"be\" + 0.011*\"New\" + 0.011*\"people\" + 0.010*\"vez\" + 0.010*\"time\" + 0.009*\"You\" + 0.009*\"alla\" + 0.008*\"navidad\" + 0.008*\"Cuando\"'), (3, '0.028*\"de\" + 0.012*\"puede\" + 0.011*\"Eso\" + 0.011*\"online\" + 0.011*\"Este\" + 0.010*\"seguir\" + 0.010*\"dando\" + 0.009*\"proyecto\" + 0.009*\"clave\" + 0.009*\"conocer\"'), (4, '0.017*\"dias\" + 0.013*\"bajo\" + 0.012*\"en\" + 0.012*\"Bayamon\" + 0.010*\"varios\" + 0.010*\"pr\" + 0.010*\"llevamos\" + 0.010*\"hogares\" + 0.010*\"Saben\" + 0.010*\"voltaje\"')]\n",
      "nnavm_og\n",
      "1022 1022\n"
     ]
    },
    {
     "name": "stderr",
     "output_type": "stream",
     "text": [
      "<ipython-input-158-c79bb0d60958>:71: DeprecationWarning: `np.float` is a deprecated alias for the builtin `float`. To silence this warning, use `float` by itself. Doing this will not modify any behavior and is safe. If you specifically wanted the numpy scalar type, use `np.float64` here.\n",
      "Deprecated in NumPy 1.20; for more details and guidance: https://numpy.org/devdocs/release/1.20.0-notes.html#deprecations\n",
      "  vector = np.vectorize(np.float)\n"
     ]
    },
    {
     "name": "stdout",
     "output_type": "stream",
     "text": [
      "[(0, '0.022*\"Que\" + 0.018*\"vez\" + 0.018*\"si\" + 0.018*\"quiero\" + 0.014*\"persona\" + 0.012*\"problema\" + 0.012*\"Tal\" + 0.012*\"platos\" + 0.011*\"que\" + 0.010*\"Y\"'), (1, '0.029*\"ver\" + 0.015*\"DE\" + 0.014*\"A\" + 0.013*\"nena\" + 0.012*\"mas\" + 0.010*\"ES\" + 0.010*\"LOS\" + 0.009*\"Si\" + 0.009*\"gt\" + 0.009*\"hace\"'), (2, '0.024*\"personas\" + 0.022*\"que\" + 0.022*\"ano\" + 0.020*\"No\" + 0.019*\"mismo\" + 0.017*\"fin\" + 0.015*\"solo\" + 0.015*\"dia\" + 0.013*\"La\" + 0.012*\"al\"'), (3, '0.024*\"te\" + 0.019*\"la\" + 0.015*\"Ya\" + 0.014*\"Me\" + 0.013*\"tan\" + 0.013*\"feliz\" + 0.013*\"si\" + 0.011*\"hoy\" + 0.011*\"Estoy\" + 0.011*\"puedo\"'), (4, '0.036*\"voy\" + 0.024*\"si\" + 0.023*\"unico\" + 0.017*\"Yo\" + 0.012*\"de\" + 0.012*\"pa\" + 0.010*\"alguien\" + 0.010*\"ahora\" + 0.009*\"pedir\" + 0.008*\"envio\"')]\n",
      "23jamel\n",
      "2747 2747\n",
      "[(0, '0.027*\"DE\" + 0.024*\"Y\" + 0.017*\"A\" + 0.016*\"LA\" + 0.014*\"QUE\" + 0.013*\"Lo\" + 0.012*\"EL\" + 0.011*\"merengue\" + 0.008*\"solo\" + 0.008*\"sabe\"'), (1, '0.027*\"Me\" + 0.027*\"La\" + 0.015*\"gente\" + 0.013*\"Yo\" + 0.013*\"Los\" + 0.011*\"carro\" + 0.011*\"pa\" + 0.010*\"dia\" + 0.007*\"mujer\" + 0.007*\"vez\"'), (2, '0.050*\"de\" + 0.022*\"El\" + 0.019*\"si\" + 0.017*\"Que\" + 0.011*\"va\" + 0.011*\"la\" + 0.010*\"ver\" + 0.010*\"q\" + 0.008*\"quiero\" + 0.007*\"casa\"'), (3, '0.023*\"que\" + 0.021*\"Cuando\" + 0.018*\"mas\" + 0.013*\"el\" + 0.012*\"No\" + 0.011*\"da\" + 0.009*\"Ya\" + 0.008*\"De\" + 0.008*\"ser\" + 0.007*\"En\"'), (4, '0.017*\"heyy\" + 0.014*\"en\" + 0.013*\"Si\" + 0.011*\"Heyy\" + 0.011*\"saben\" + 0.008*\"Puerto\" + 0.008*\"estan\" + 0.007*\"Como\" + 0.007*\"haciendo\" + 0.007*\"Rico\"')]\n"
     ]
    },
    {
     "name": "stderr",
     "output_type": "stream",
     "text": [
      "<ipython-input-158-c79bb0d60958>:71: DeprecationWarning: `np.float` is a deprecated alias for the builtin `float`. To silence this warning, use `float` by itself. Doing this will not modify any behavior and is safe. If you specifically wanted the numpy scalar type, use `np.float64` here.\n",
      "Deprecated in NumPy 1.20; for more details and guidance: https://numpy.org/devdocs/release/1.20.0-notes.html#deprecations\n",
      "  vector = np.vectorize(np.float)\n"
     ]
    }
   ],
   "source": [
    "users = asignTopics(df, x)\n",
    "\n"
   ]
  },
  {
   "cell_type": "code",
   "execution_count": 151,
   "id": "e4d79ad3",
   "metadata": {},
   "outputs": [
    {
     "name": "stderr",
     "output_type": "stream",
     "text": [
      "/usr/local/lib/python3.9/site-packages/ipykernel/ipkernel.py:283: DeprecationWarning: `should_run_async` will not call `transform_cell` automatically in the future. Please pass the result to `transformed_cell` argument and any exception that happen during thetransform in `preprocessing_exc_tuple` in IPython 7.17 and above.\n",
      "  and should_run_async(code)\n"
     ]
    },
    {
     "data": {
      "text/html": [
       "<div>\n",
       "<style scoped>\n",
       "    .dataframe tbody tr th:only-of-type {\n",
       "        vertical-align: middle;\n",
       "    }\n",
       "\n",
       "    .dataframe tbody tr th {\n",
       "        vertical-align: top;\n",
       "    }\n",
       "\n",
       "    .dataframe thead th {\n",
       "        text-align: right;\n",
       "    }\n",
       "</style>\n",
       "<table border=\"1\" class=\"dataframe\">\n",
       "  <thead>\n",
       "    <tr style=\"text-align: right;\">\n",
       "      <th></th>\n",
       "      <th>Topic0</th>\n",
       "      <th>Topic1</th>\n",
       "      <th>Topic2</th>\n",
       "      <th>Topic3</th>\n",
       "      <th>Topic4</th>\n",
       "    </tr>\n",
       "  </thead>\n",
       "  <tbody>\n",
       "    <tr>\n",
       "      <th>0</th>\n",
       "      <td>[6.4059626e-05, 6.423177e-05, 6.522911e-05, 6....</td>\n",
       "      <td>[7.131866e-05, 7.13527e-05, 7.226892e-05, 7.27...</td>\n",
       "      <td>[6.306197e-05, 0.016837869, 6.1405466e-05, 6.1...</td>\n",
       "      <td>[0.00010639355, 7.018809e-05, 0.0017958591, 0....</td>\n",
       "      <td>[6.8705805e-05, 6.8814385e-05, 7.199822e-05, 6...</td>\n",
       "    </tr>\n",
       "    <tr>\n",
       "      <th>1</th>\n",
       "      <td>[0.00022911737, 0.00022911589, 0.00022911589, ...</td>\n",
       "      <td>[0.000234279, 0.00023427073, 0.00023427073, 0....</td>\n",
       "      <td>[0.00019619269, 0.00019618758, 0.00019618758, ...</td>\n",
       "      <td>[0.00049253425, 0.00020517374, 0.00020517374, ...</td>\n",
       "      <td>[0.00019165115, 0.00046023697, 0.00046023697, ...</td>\n",
       "    </tr>\n",
       "    <tr>\n",
       "      <th>2</th>\n",
       "      <td>[0.0007776633, 0.0007776634, 0.004510385, 0.00...</td>\n",
       "      <td>[0.00044708577, 0.00044708565, 0.00044708583, ...</td>\n",
       "      <td>[0.0008799134, 0.0008799134, 0.0051034573, 0.0...</td>\n",
       "      <td>[0.0005133346, 0.0005133345, 0.0005133347, 0.0...</td>\n",
       "      <td>[0.003119646, 0.005321997, 0.0031196459, 0.000...</td>\n",
       "    </tr>\n",
       "    <tr>\n",
       "      <th>4</th>\n",
       "      <td>[0.00019731079, 0.00639439, 0.0001994974, 0.04...</td>\n",
       "      <td>[0.009712919, 0.0061110817, 0.009712921, 0.020...</td>\n",
       "      <td>[0.0002943054, 0.0002943031, 0.0002943054, 0.0...</td>\n",
       "      <td>[0.00035719664, 0.00035717327, 0.00035719745, ...</td>\n",
       "      <td>[0.0004296852, 0.00042968814, 0.0014735191, 0....</td>\n",
       "    </tr>\n",
       "    <tr>\n",
       "      <th>5</th>\n",
       "      <td>[8.2627594e-05, 8.2628765e-05, 8.2628765e-05, ...</td>\n",
       "      <td>[8.410271e-05, 8.4103274e-05, 8.4103274e-05, 8...</td>\n",
       "      <td>[7.250998e-05, 7.2512456e-05, 7.2512456e-05, 7...</td>\n",
       "      <td>[6.990478e-05, 6.990746e-05, 6.990746e-05, 8.2...</td>\n",
       "      <td>[0.0003292375, 0.0001769559, 0.0001769559, 0.0...</td>\n",
       "    </tr>\n",
       "  </tbody>\n",
       "</table>\n",
       "</div>"
      ],
      "text/plain": [
       "                                              Topic0  \\\n",
       "0  [6.4059626e-05, 6.423177e-05, 6.522911e-05, 6....   \n",
       "1  [0.00022911737, 0.00022911589, 0.00022911589, ...   \n",
       "2  [0.0007776633, 0.0007776634, 0.004510385, 0.00...   \n",
       "4  [0.00019731079, 0.00639439, 0.0001994974, 0.04...   \n",
       "5  [8.2627594e-05, 8.2628765e-05, 8.2628765e-05, ...   \n",
       "\n",
       "                                              Topic1  \\\n",
       "0  [7.131866e-05, 7.13527e-05, 7.226892e-05, 7.27...   \n",
       "1  [0.000234279, 0.00023427073, 0.00023427073, 0....   \n",
       "2  [0.00044708577, 0.00044708565, 0.00044708583, ...   \n",
       "4  [0.009712919, 0.0061110817, 0.009712921, 0.020...   \n",
       "5  [8.410271e-05, 8.4103274e-05, 8.4103274e-05, 8...   \n",
       "\n",
       "                                              Topic2  \\\n",
       "0  [6.306197e-05, 0.016837869, 6.1405466e-05, 6.1...   \n",
       "1  [0.00019619269, 0.00019618758, 0.00019618758, ...   \n",
       "2  [0.0008799134, 0.0008799134, 0.0051034573, 0.0...   \n",
       "4  [0.0002943054, 0.0002943031, 0.0002943054, 0.0...   \n",
       "5  [7.250998e-05, 7.2512456e-05, 7.2512456e-05, 7...   \n",
       "\n",
       "                                              Topic3  \\\n",
       "0  [0.00010639355, 7.018809e-05, 0.0017958591, 0....   \n",
       "1  [0.00049253425, 0.00020517374, 0.00020517374, ...   \n",
       "2  [0.0005133346, 0.0005133345, 0.0005133347, 0.0...   \n",
       "4  [0.00035719664, 0.00035717327, 0.00035719745, ...   \n",
       "5  [6.990478e-05, 6.990746e-05, 6.990746e-05, 8.2...   \n",
       "\n",
       "                                              Topic4  \n",
       "0  [6.8705805e-05, 6.8814385e-05, 7.199822e-05, 6...  \n",
       "1  [0.00019165115, 0.00046023697, 0.00046023697, ...  \n",
       "2  [0.003119646, 0.005321997, 0.0031196459, 0.000...  \n",
       "4  [0.0004296852, 0.00042968814, 0.0014735191, 0....  \n",
       "5  [0.0003292375, 0.0001769559, 0.0001769559, 0.0...  "
      ]
     },
     "execution_count": 151,
     "metadata": {},
     "output_type": "execute_result"
    }
   ],
   "source": [
    "topics = df[[\"Topic0\", \"Topic1\", \"Topic2\", \"Topic3\", \"Topic4\"]]\n",
    "topics.head()\n",
    "\n"
   ]
  },
  {
   "cell_type": "code",
   "execution_count": null,
   "id": "edf94375",
   "metadata": {},
   "outputs": [],
   "source": []
  },
  {
   "cell_type": "code",
   "execution_count": 25,
   "id": "b95a1e37",
   "metadata": {},
   "outputs": [
    {
     "name": "stderr",
     "output_type": "stream",
     "text": [
      "/usr/local/lib/python3.9/site-packages/ipykernel/ipkernel.py:283: DeprecationWarning: `should_run_async` will not call `transform_cell` automatically in the future. Please pass the result to `transformed_cell` argument and any exception that happen during thetransform in `preprocessing_exc_tuple` in IPython 7.17 and above.\n",
      "  and should_run_async(code)\n"
     ]
    }
   ],
   "source": [
    "# Gensim\n",
    "import gensim\n",
    "import gensim.corpora as corpora\n",
    "from gensim.utils import simple_preprocess\n",
    "from gensim.models import CoherenceModel\n",
    "\n",
    "\n",
    "# Plotting tools\n",
    "import pyLDAvis\n",
    "import pyLDAvis.gensim_models as gensimvis\n",
    "import matplotlib.pyplot as plt"
   ]
  },
  {
   "cell_type": "code",
   "execution_count": 39,
   "id": "c0e26576",
   "metadata": {},
   "outputs": [
    {
     "name": "stderr",
     "output_type": "stream",
     "text": [
      "/usr/local/lib/python3.9/site-packages/ipykernel/ipkernel.py:283: DeprecationWarning: `should_run_async` will not call `transform_cell` automatically in the future. Please pass the result to `transformed_cell` argument and any exception that happen during thetransform in `preprocessing_exc_tuple` in IPython 7.17 and above.\n",
      "  and should_run_async(code)\n"
     ]
    },
    {
     "ename": "IndexError",
     "evalue": "index 5 is out of bounds for axis 0 with size 5",
     "output_type": "error",
     "traceback": [
      "\u001b[0;31m---------------------------------------------------------------------------\u001b[0m",
      "\u001b[0;31mIndexError\u001b[0m                                Traceback (most recent call last)",
      "\u001b[0;32m<ipython-input-39-9f5208f3b627>\u001b[0m in \u001b[0;36m<module>\u001b[0;34m\u001b[0m\n\u001b[0;32m----> 1\u001b[0;31m \u001b[0mlda_model\u001b[0m\u001b[0;34m.\u001b[0m\u001b[0mget_topics\u001b[0m\u001b[0;34m(\u001b[0m\u001b[0;34m)\u001b[0m\u001b[0;34m[\u001b[0m\u001b[0;36m5\u001b[0m\u001b[0;34m]\u001b[0m\u001b[0;34m\u001b[0m\u001b[0;34m\u001b[0m\u001b[0m\n\u001b[0m",
      "\u001b[0;31mIndexError\u001b[0m: index 5 is out of bounds for axis 0 with size 5"
     ]
    }
   ],
   "source": [
    "lda_model.get_topics()[5]"
   ]
  },
  {
   "cell_type": "code",
   "execution_count": 28,
   "id": "5385d7d4",
   "metadata": {},
   "outputs": [
    {
     "name": "stderr",
     "output_type": "stream",
     "text": [
      "/usr/local/lib/python3.9/site-packages/ipykernel/ipkernel.py:283: DeprecationWarning: `should_run_async` will not call `transform_cell` automatically in the future. Please pass the result to `transformed_cell` argument and any exception that happen during thetransform in `preprocessing_exc_tuple` in IPython 7.17 and above.\n",
      "  and should_run_async(code)\n"
     ]
    },
    {
     "data": {
      "text/html": [
       "\n",
       "<link rel=\"stylesheet\" type=\"text/css\" href=\"https://cdn.jsdelivr.net/gh/bmabey/pyLDAvis@3.3.1/pyLDAvis/js/ldavis.v1.0.0.css\">\n",
       "\n",
       "\n",
       "<div id=\"ldavis_el5863758989750409708550306\"></div>\n",
       "<script type=\"text/javascript\">\n",
       "\n",
       "var ldavis_el5863758989750409708550306_data = {\"mdsDat\": {\"x\": [0.1260036135167751, -0.19836660493132086, -0.001911677918889402, 0.0384944114943393, 0.03578025783909584], \"y\": [0.09452558210548055, 0.06628436700845178, -0.18558292169970234, -0.001148863355199096, 0.025921835940969133], \"topics\": [1, 2, 3, 4, 5], \"cluster\": [1, 1, 1, 1, 1], \"Freq\": [21.899445822518544, 21.896521290474556, 19.960155809254232, 19.031200791386752, 17.212676286365912]}, \"tinfo\": {\"Term\": [\"I\", \"love\", \"que\", \"claim\", \"los\", \"No\", \"mood\", \"recibir\", \"you\", \"solo\", \"get\", \"like\", \"si\", \"mas\", \"fuck\", \"ano\", \"Yo\", \"por\", \"amo\", \"lo\", \"talk\", \"Me\", \"menos\", \"Asi\", \"pudo\", \"bad\", \"mio\", \"gracias\", \"mensaje\", \"better\", \"love\", \"fuck\", \"bad\", \"sientas\", \"away\", \"go\", \"Eve\", \"New\", \"Year\", \"bunny\", \"Empiezo\", \"amada\", \"clara\", \"con\", \"locura\", \"run\", \"vaina\", \"quiero\", \"El\", \"time\", \"It\", \"still\", \"woman\", \"much\", \"date\", \"Que\", \"How\", \"could\", \"Only\", \"really\", \"year\", \"people\", \"mood\", \"los\", \"Me\", \"better\", \"I\", \"lmao\", \"mio\", \"idgaf\", \"Frank\", \"Ocean\", \"Seigfried\", \"HHahaha\", \"enviar\", \"fotos\", \"gra\", \"ningun\", \"quedarse\", \"saben\", \"subir\", \"days\", \"amp\", \"make\", \"one\", \"na\", \"the\", \"another\", \"see\", \"come\", \"right\", \"rub\", \"to\", \"gracias\", \"mensaje\", \"recibir\", \"solo\", \"like\", \"Yo\", \"necesita\", \"q\", \"Dios\", \"l\", \"ahi\", \"dejastes\", \"necesitaba\", \"gt\", \"gente\", \"u\", \"ser\", \"vida\", \"bien\", \"miss\", \"deserve\", \"alguien\", \"life\", \"money\", \"te\", \"What\", \"espero\", \"Uno\", \"un\", \"La\", \"dias\", \"despues\", \"A\", \"gracias\", \"mensaje\", \"bitch\", \"de\", \"que\", \"claim\", \"you\", \"por\", \"lo\", \"Asi\", \"pudo\", \"talk\", \"amo\", \"nadie\", \"look\", \"want\", \"shit\", \"frank\", \"ocean\", \"ver\", \"The\", \"listen\", \"cosas\", \"nt\", \"everything\", \"red\", \"Se\", \"always\", \"NOT\", \"rapido\", \"Star\", \"Wars\", \"music\", \"live\", \"de\", \"No\", \"get\", \"mas\", \"si\", \"ano\", \"menos\", \"atencion\", \"cbn\", \"flow\", \"llamar\", \"mi\", \"objetivo\", \"obstaculo\", \"chingacion\", \"encabronacion\", \"voy\", \"MAH\", \"mundo\", \"okay\", \"take\", \"think\", \" \", \"back\", \"This\", \"avril\", \"lavigne\", \"Girls\", \"guy\", \"sleep\", \"zone\", \"en\"], \"Freq\": [34.0, 22.0, 20.0, 14.0, 15.0, 13.0, 15.0, 13.0, 11.0, 11.0, 10.0, 11.0, 10.0, 9.0, 11.0, 9.0, 9.0, 9.0, 8.0, 8.0, 8.0, 9.0, 7.0, 7.0, 7.0, 8.0, 8.0, 13.0, 13.0, 8.0, 21.76548682249981, 10.83374842844829, 8.186716063540402, 7.730097653539283, 7.228668086325597, 7.414272281911252, 6.98342555425852, 6.98342555425852, 6.98342555425852, 6.98342555425852, 6.9811245450845645, 6.9811245450845645, 6.9811245450845645, 6.9811245450845645, 6.9811245450845645, 6.9811245450845645, 6.9811245450845645, 5.19492014729133, 4.936194220251654, 4.349564995921203, 4.240010197435013, 4.001660886554308, 3.3362317461846698, 2.846654242583934, 2.696967490583438, 2.7711688679421487, 2.6624150256325407, 2.625975473765609, 2.643890699715266, 2.4368988864144177, 2.626133956800549, 4.604684089499036, 14.895539816515337, 15.204052743093676, 8.548762984741582, 7.962979739664346, 32.0941878649462, 7.779233553897548, 8.059163881041568, 7.367528106446304, 7.186378038510562, 7.186378038510562, 6.820819471121591, 6.820745458990442, 6.816397088139886, 6.816397088139886, 6.816397088139886, 6.816397088139886, 6.816397088139886, 6.816397088139886, 6.816397088139886, 6.808557495478999, 6.966462060993242, 5.587952591488922, 5.414980547753935, 5.4546877398239655, 4.237795777746507, 3.9503468934677355, 3.618115925476718, 3.1117910290106106, 3.1017317049975848, 3.0166243962911015, 5.402423788751384, 6.8165134832863075, 6.8165134832863075, 13.182313999689022, 11.130997411418626, 10.778642964628915, 9.1849594045632, 7.194213233398539, 6.848465367613972, 6.888316481054188, 6.830983905647317, 6.651516942823784, 6.651516942823784, 6.651516942823784, 6.555032720046283, 6.302701344565851, 6.340431570781059, 7.519299459661822, 4.950818533960146, 3.840549352666408, 3.8016791063196504, 3.0127690293264857, 2.71970831548912, 2.7627211539578083, 2.595116570565832, 2.760125402505014, 2.318088218750465, 2.285466026592063, 2.305667650402702, 2.2563255954626453, 2.186222862833579, 2.1481005204375654, 2.1051330924824634, 3.7230035895273446, 6.651404497742524, 6.651404497742524, 2.787952388589092, 2.351130926680709, 19.48389806410359, 14.355969219442708, 11.329075642007712, 8.608019491657144, 7.690077813261936, 7.246560597837446, 7.242209996577403, 7.642255287266763, 8.357060778685089, 5.843726182998597, 5.318266687630276, 4.227009381646891, 3.9066969824060402, 3.6433698723727024, 3.6433698723727024, 3.488913081359875, 3.4311564167488697, 3.1686251484094425, 2.7748404790455097, 2.828598142232918, 2.705868906750648, 2.569588645202881, 2.5223271944744687, 2.4536896282791236, 2.3540010407185803, 2.202338904856113, 2.1698078103717386, 2.1698078103717386, 2.156499797797577, 2.1681144131922956, 3.5620859830530205, 12.628923974241035, 9.882479185298935, 9.38196623007028, 9.574187081688079, 9.023464998141389, 6.709178237343413, 6.41027653859695, 6.41027653859695, 6.41027653859695, 6.41027653859695, 6.41027653859695, 6.41027653859695, 6.41027653859695, 6.410240735316383, 6.410240735316383, 5.06843422773994, 2.867125961942111, 2.7776296949502672, 2.9021748872787456, 2.6038000437511886, 2.6297569248948256, 2.180826054340409, 2.164229990627918, 2.1162705017722074, 1.9326689170001885, 1.9326689170001885, 1.9151788901260283, 1.9151788901260283, 1.9151788901260283, 1.9151788901260283, 2.3773639362394117], \"Total\": [34.0, 22.0, 20.0, 14.0, 15.0, 13.0, 15.0, 13.0, 11.0, 11.0, 10.0, 11.0, 10.0, 9.0, 11.0, 9.0, 9.0, 9.0, 8.0, 8.0, 8.0, 9.0, 7.0, 7.0, 7.0, 8.0, 8.0, 13.0, 13.0, 8.0, 22.2948720760181, 11.361659181030916, 8.733538879674938, 8.249195941399119, 7.7480322416361735, 7.952610831897673, 7.501272194913023, 7.501272194913023, 7.501272194913023, 7.501272194913023, 7.501053559282523, 7.501053559282523, 7.501053559282523, 7.501053559282523, 7.501053559282523, 7.501053559282523, 7.501053559282523, 5.738133288243522, 5.4615857095730505, 4.881476194814998, 4.759519171836819, 4.543496093927338, 3.856953079758649, 3.3711272269278654, 3.2229319180413603, 3.315073462288274, 3.189544353691465, 3.1478944298169957, 3.188011948067062, 2.957644056749553, 3.1874971792317357, 6.921761552382745, 15.416496718220968, 15.736143433570906, 9.078215725017886, 8.488321050749027, 34.23763349201362, 8.305853853087312, 8.623571598684109, 7.895763055070084, 7.707328297238555, 7.707328297238555, 7.341773090424013, 7.3417045892834185, 7.342029830133836, 7.342029830133836, 7.342029830133836, 7.342029830133836, 7.342029830133836, 7.342029830133836, 7.342029830133836, 7.341597890536168, 7.514673659342161, 6.116450824835454, 5.938038406540653, 5.99066006977614, 4.760684289183132, 4.50320063548828, 4.141680735874497, 3.6338799764573375, 3.6288903564279007, 3.541134191717464, 6.4129566887226135, 13.87130484106821, 13.87130484106821, 13.710731371530546, 11.661472212538508, 11.3108097757743, 9.710377682396059, 7.720971956145172, 7.372630330430627, 7.415822986112839, 7.358855051484015, 7.180387814086417, 7.180387814086417, 7.180387814086417, 7.079352398355694, 6.833388415565806, 6.8793428157952246, 8.221724657270624, 5.487985722819845, 4.369092624830527, 4.331074707397827, 3.5571915981695206, 3.2442784505252926, 3.3072565796322957, 3.122689961910899, 3.327737438933223, 2.850911177543878, 2.8114725303610415, 2.8508331446994513, 2.801128169909269, 2.719675179830176, 2.680338217267519, 2.6292130172139516, 5.386076640572696, 13.87130484106821, 13.87130484106821, 3.9718515493733784, 7.983665897466701, 20.0258426405773, 14.868809518539274, 11.861969017694804, 9.123665700244219, 8.205362659625607, 7.759403476368483, 7.759205295665735, 8.20151737312001, 8.973570100292179, 6.393557854505047, 5.835002801829077, 4.758922651352879, 4.436755044220916, 4.157647283573704, 4.157647283573704, 4.0057171791609685, 3.9654455593188866, 3.690868442574391, 3.2880952006774677, 3.3554374854964775, 3.2351107258508116, 3.0861022131227474, 3.053363735670729, 2.9738532930186907, 2.9053211932269893, 2.7205322693316023, 2.696593932009833, 2.696593932009833, 2.6886557012644863, 2.7044467431094876, 7.983665897466701, 13.180419698537696, 10.436576582998967, 9.919637655988197, 10.139650172624378, 9.66375302917566, 7.238014649051364, 6.939062754765359, 6.939062754765359, 6.939062754765359, 6.939062754765359, 6.939062754765359, 6.939062754765359, 6.939062754765359, 6.9390302041864516, 6.9390302041864516, 5.605499215594834, 3.3959112212851825, 3.307465586883654, 3.4580287364196622, 3.148695209811568, 3.188222618431177, 2.709609875317073, 2.7029652193033114, 2.651646938761474, 2.4614659960161904, 2.4614659960161904, 2.4624050348887776, 2.4624050348887776, 2.4624050348887776, 2.4624050348887776, 3.1967865667548354], \"Category\": [\"Default\", \"Default\", \"Default\", \"Default\", \"Default\", \"Default\", \"Default\", \"Default\", \"Default\", \"Default\", \"Default\", \"Default\", \"Default\", \"Default\", \"Default\", \"Default\", \"Default\", \"Default\", \"Default\", \"Default\", \"Default\", \"Default\", \"Default\", \"Default\", \"Default\", \"Default\", \"Default\", \"Default\", \"Default\", \"Default\", \"Topic1\", \"Topic1\", \"Topic1\", \"Topic1\", \"Topic1\", \"Topic1\", \"Topic1\", \"Topic1\", \"Topic1\", \"Topic1\", \"Topic1\", \"Topic1\", \"Topic1\", \"Topic1\", \"Topic1\", \"Topic1\", \"Topic1\", \"Topic1\", \"Topic1\", \"Topic1\", \"Topic1\", \"Topic1\", \"Topic1\", \"Topic1\", \"Topic1\", \"Topic1\", \"Topic1\", \"Topic1\", \"Topic1\", \"Topic1\", \"Topic1\", \"Topic1\", \"Topic2\", \"Topic2\", \"Topic2\", \"Topic2\", \"Topic2\", \"Topic2\", \"Topic2\", \"Topic2\", \"Topic2\", \"Topic2\", \"Topic2\", \"Topic2\", \"Topic2\", \"Topic2\", \"Topic2\", \"Topic2\", \"Topic2\", \"Topic2\", \"Topic2\", \"Topic2\", \"Topic2\", \"Topic2\", \"Topic2\", \"Topic2\", \"Topic2\", \"Topic2\", \"Topic2\", \"Topic2\", \"Topic2\", \"Topic2\", \"Topic2\", \"Topic2\", \"Topic2\", \"Topic3\", \"Topic3\", \"Topic3\", \"Topic3\", \"Topic3\", \"Topic3\", \"Topic3\", \"Topic3\", \"Topic3\", \"Topic3\", \"Topic3\", \"Topic3\", \"Topic3\", \"Topic3\", \"Topic3\", \"Topic3\", \"Topic3\", \"Topic3\", \"Topic3\", \"Topic3\", \"Topic3\", \"Topic3\", \"Topic3\", \"Topic3\", \"Topic3\", \"Topic3\", \"Topic3\", \"Topic3\", \"Topic3\", \"Topic3\", \"Topic3\", \"Topic3\", \"Topic3\", \"Topic3\", \"Topic3\", \"Topic4\", \"Topic4\", \"Topic4\", \"Topic4\", \"Topic4\", \"Topic4\", \"Topic4\", \"Topic4\", \"Topic4\", \"Topic4\", \"Topic4\", \"Topic4\", \"Topic4\", \"Topic4\", \"Topic4\", \"Topic4\", \"Topic4\", \"Topic4\", \"Topic4\", \"Topic4\", \"Topic4\", \"Topic4\", \"Topic4\", \"Topic4\", \"Topic4\", \"Topic4\", \"Topic4\", \"Topic4\", \"Topic4\", \"Topic4\", \"Topic4\", \"Topic5\", \"Topic5\", \"Topic5\", \"Topic5\", \"Topic5\", \"Topic5\", \"Topic5\", \"Topic5\", \"Topic5\", \"Topic5\", \"Topic5\", \"Topic5\", \"Topic5\", \"Topic5\", \"Topic5\", \"Topic5\", \"Topic5\", \"Topic5\", \"Topic5\", \"Topic5\", \"Topic5\", \"Topic5\", \"Topic5\", \"Topic5\", \"Topic5\", \"Topic5\", \"Topic5\", \"Topic5\", \"Topic5\", \"Topic5\", \"Topic5\"], \"logprob\": [30.0, 29.0, 28.0, 27.0, 26.0, 25.0, 24.0, 23.0, 22.0, 21.0, 20.0, 19.0, 18.0, 17.0, 16.0, 15.0, 14.0, 13.0, 12.0, 11.0, 10.0, 9.0, 8.0, 7.0, 6.0, 5.0, 4.0, 3.0, 2.0, 1.0, -3.4408, -4.1384, -4.4186, -4.476, -4.543, -4.5177, -4.5776, -4.5776, -4.5776, -4.5776, -4.5779, -4.5779, -4.5779, -4.5779, -4.5779, -4.5779, -4.5779, -4.8734, -4.9245, -5.051, -5.0765, -5.1344, -5.3163, -5.4749, -5.529, -5.5018, -5.5419, -5.5556, -5.5488, -5.6304, -5.5556, -4.994, -3.8199, -3.7994, -4.3752, -4.4462, -3.0523, -4.4695, -4.4342, -4.5239, -4.5488, -4.5488, -4.601, -4.601, -4.6016, -4.6016, -4.6016, -4.6016, -4.6016, -4.6016, -4.6016, -4.6028, -4.5799, -4.8003, -4.8318, -4.8245, -5.0769, -5.1472, -5.235, -5.3858, -5.389, -5.4168, -4.8341, -4.6016, -4.6016, -3.8495, -4.0186, -4.0508, -4.2108, -4.4551, -4.5043, -4.4985, -4.5069, -4.5335, -4.5335, -4.5335, -4.5481, -4.5874, -4.5814, -4.4109, -4.8288, -5.0828, -5.0929, -5.3255, -5.4278, -5.4122, -5.4747, -5.4131, -5.5876, -5.6018, -5.593, -5.6146, -5.6462, -5.6638, -5.684, -5.1138, -4.5335, -4.5335, -5.4031, -5.5735, -3.4111, -3.7165, -3.9533, -4.228, -4.3408, -4.4002, -4.4008, -4.347, -4.2576, -4.6153, -4.7096, -4.9392, -5.018, -5.0878, -5.0878, -5.1311, -5.1478, -5.2274, -5.3601, -5.3409, -5.3853, -5.437, -5.4555, -5.4831, -5.5246, -5.5912, -5.6061, -5.6061, -5.6122, -5.6069, -5.1104, -3.7443, -3.9895, -4.0415, -4.0212, -4.0804, -4.3768, -4.4224, -4.4224, -4.4224, -4.4224, -4.4224, -4.4224, -4.4224, -4.4224, -4.4224, -4.6572, -5.227, -5.2587, -5.2148, -5.3233, -5.3134, -5.5006, -5.5082, -5.5306, -5.6214, -5.6214, -5.6305, -5.6305, -5.6305, -5.6305, -5.4143], \"loglift\": [30.0, 29.0, 28.0, 27.0, 26.0, 25.0, 24.0, 23.0, 22.0, 21.0, 20.0, 19.0, 18.0, 17.0, 16.0, 15.0, 14.0, 13.0, 12.0, 11.0, 10.0, 9.0, 8.0, 7.0, 6.0, 5.0, 4.0, 3.0, 2.0, 1.0, 1.4947, 1.4711, 1.4541, 1.4537, 1.4493, 1.4486, 1.4472, 1.4472, 1.4472, 1.4472, 1.4469, 1.4469, 1.4469, 1.4469, 1.4469, 1.4469, 1.4469, 1.4193, 1.4176, 1.4033, 1.4031, 1.3917, 1.3737, 1.3496, 1.3405, 1.3395, 1.3381, 1.3374, 1.3316, 1.325, 1.325, 1.1111, 1.4845, 1.4844, 1.4588, 1.455, 1.4542, 1.4533, 1.4512, 1.4496, 1.4489, 1.4489, 1.4452, 1.4452, 1.4446, 1.4446, 1.4446, 1.4446, 1.4446, 1.4446, 1.4446, 1.4435, 1.4431, 1.4285, 1.4266, 1.4251, 1.4025, 1.3879, 1.3837, 1.3637, 1.3619, 1.3585, 1.3474, 0.8084, 0.8084, 1.5721, 1.5649, 1.5632, 1.5558, 1.5408, 1.5377, 1.5376, 1.537, 1.5349, 1.5349, 1.5349, 1.5345, 1.5306, 1.5299, 1.5221, 1.5084, 1.4825, 1.4811, 1.4453, 1.4351, 1.4315, 1.4264, 1.4244, 1.4045, 1.4043, 1.3992, 1.3951, 1.3931, 1.3901, 1.3891, 1.2421, 0.8764, 0.8764, 1.2575, 0.3889, 1.6317, 1.624, 1.6131, 1.6009, 1.5942, 1.5907, 1.5901, 1.5885, 1.5879, 1.5692, 1.5664, 1.5406, 1.5319, 1.5271, 1.5271, 1.521, 1.5144, 1.5065, 1.4894, 1.4883, 1.4805, 1.4759, 1.468, 1.4668, 1.4487, 1.4478, 1.4417, 1.4417, 1.4385, 1.4381, 0.852, 1.7168, 1.705, 1.7038, 1.7021, 1.691, 1.6837, 1.6803, 1.6803, 1.6803, 1.6803, 1.6803, 1.6803, 1.6803, 1.6803, 1.6803, 1.6588, 1.5903, 1.5849, 1.5843, 1.5695, 1.567, 1.5424, 1.5372, 1.534, 1.5177, 1.5177, 1.5082, 1.5082, 1.5082, 1.5082, 1.4634]}, \"token.table\": {\"Topic\": [5, 1, 3, 4, 3, 1, 1, 1, 2, 5, 2, 1, 2, 5, 1, 3, 5, 2, 4, 1, 5, 2, 1, 1, 4, 2, 4, 4, 5, 3, 4, 3, 1, 3, 3, 3, 4, 1, 4, 2, 5, 2, 5, 5, 1, 5, 1, 2, 3, 1, 3, 1, 5, 5, 4, 1, 2, 1, 4, 1, 1, 2, 2, 3, 4, 3, 3, 3, 3, 5, 5, 2, 3, 4, 5, 2, 4, 1, 3, 5, 1, 2, 2, 3, 3, 5, 2, 3, 5, 3, 3, 4, 4, 5, 2, 4, 1, 4, 2, 1, 2, 5, 5, 2, 3, 5, 2, 3, 3, 2, 1, 5, 4, 2, 4, 3, 3, 2, 4, 5, 5, 4, 5, 2, 1, 3, 4, 4, 3, 4, 2, 1, 4, 1, 3, 4, 2, 2, 1, 2, 2, 3, 4, 5, 1, 5, 3, 1, 2, 5, 4, 3, 2, 5, 1, 2, 3, 3, 3, 1, 4, 3, 5, 4, 1, 1, 4, 5], \"Freq\": [0.7381136370290075, 0.18566390096774987, 0.7426556038709995, 0.9021312039409639, 0.9439276009026206, 0.9154850378409362, 0.9332022421487084, 0.9331750425943802, 0.9082265254625287, 0.8122140637558989, 0.9534570500449991, 0.9405732190329652, 0.9346440374585008, 0.0584152523411563, 0.8404210290125377, 0.7353819363549456, 0.8834153205173161, 0.991384240319126, 0.6883920458304186, 0.9331750425943802, 0.9863115361525466, 0.9082265254625287, 0.941025331419772, 0.9049573211958959, 0.9825229680148125, 0.9534481539793442, 0.7416763704238385, 0.756535414526101, 0.7542482261737893, 0.7015493010240169, 0.7416763704238385, 0.7015300987816266, 0.9331750425943802, 0.9268434549478026, 0.9748777059461143, 0.9247048444668057, 0.6725281320013757, 0.9332022421487084, 0.891506937661246, 0.9315108436276106, 0.9313151911921035, 0.888257113946308, 0.8646700875964173, 0.8125239199879017, 0.9034551976156711, 0.7399281299355748, 0.9160089753098757, 0.942471420693267, 0.9155219043119179, 0.2517717461413596, 0.7553152384240788, 0.9331750425943802, 0.8646700875964173, 0.8646741437124864, 0.941568320082654, 0.9332022421487084, 0.8255638654650047, 0.9332022421487084, 0.9123823420264384, 0.9530179829361071, 0.9308294671713573, 0.9534709070655434, 0.2505114850352919, 0.2505114850352919, 0.5010229700705838, 0.9748777059461143, 0.8433619379804441, 0.7606838954872139, 0.7461744891429812, 0.6256282545726118, 0.8646741437124864, 0.9534148133354015, 0.7113709909672017, 0.9273252924630643, 0.8646700875964173, 0.9534148133354015, 0.9620825739122828, 0.9681684536326586, 0.8780417027565085, 0.958168602555924, 0.8802140766052853, 0.9534148133354015, 0.5046388988060723, 0.5046388988060723, 0.9887910088535605, 0.8122140637558989, 0.8865514265280681, 0.951234934106815, 0.8125239199879017, 0.907096237550926, 0.972520996998818, 0.8128168334028973, 0.7395227896780334, 0.8646700875964173, 0.9631761094648174, 0.9749721410077228, 0.9332022421487084, 0.8568976176725516, 0.9532195778032599, 0.9867739956070309, 0.9809610461736057, 0.9072912047918364, 0.9671160310400091, 0.5046388988060723, 0.5046388988060723, 0.8646700875964173, 0.9276898682235953, 0.9235583013998063, 0.9607101686663058, 0.9729836988367984, 0.8899100502753565, 0.9070389158082358, 0.7438661629525087, 0.8346325683251197, 0.9384446245015619, 0.906621606678503, 0.9748777059461143, 0.9534148133354015, 0.8940711942830649, 0.8646700875964173, 0.8646700875964173, 0.9620825739122828, 0.8675462897124762, 0.8420289088215699, 0.7223594690687953, 0.2889437876275181, 0.986445612508478, 0.9021542456042728, 0.9494576136697658, 0.9487740586506613, 0.9534148133354015, 0.8713635164669608, 0.7351502581115763, 0.676213892417466, 0.9481624026996595, 0.9721000125152619, 0.8266989920723454, 0.847186194473186, 0.9332022421487084, 0.9534148133354015, 0.9657914878258761, 0.9730318556612634, 0.901559802182496, 0.9862273184728391, 0.9697914871740998, 0.8122140637558989, 0.943277126551201, 0.8803793196490795, 0.9534148133354015, 0.952775610243817, 0.9754292573005489, 0.901513432190045, 0.8402153465812674, 0.9409631506460501, 0.8194242561806849, 0.7796715684658618, 0.15593431369317237, 0.8721763343765597, 0.7139980317518929, 0.9332022421487084, 0.7489295588832299, 0.9110810874032108, 0.8919812148202074, 0.8405263739394607, 0.7778160475283061, 0.9411773034801785, 0.9273333949524752, 0.8122140637558989], \"Term\": [\" \", \"A\", \"A\", \"Asi\", \"Dios\", \"El\", \"Empiezo\", \"Eve\", \"Frank\", \"Girls\", \"HHahaha\", \"How\", \"I\", \"I\", \"It\", \"La\", \"MAH\", \"Me\", \"NOT\", \"New\", \"No\", \"Ocean\", \"Only\", \"Que\", \"Se\", \"Seigfried\", \"Star\", \"The\", \"This\", \"Uno\", \"Wars\", \"What\", \"Year\", \"Yo\", \"ahi\", \"alguien\", \"always\", \"amada\", \"amo\", \"amp\", \"ano\", \"another\", \"atencion\", \"avril\", \"away\", \"back\", \"bad\", \"better\", \"bien\", \"bitch\", \"bitch\", \"bunny\", \"cbn\", \"chingacion\", \"claim\", \"clara\", \"come\", \"con\", \"cosas\", \"could\", \"date\", \"days\", \"de\", \"de\", \"de\", \"dejastes\", \"deserve\", \"despues\", \"dias\", \"en\", \"encabronacion\", \"enviar\", \"espero\", \"everything\", \"flow\", \"fotos\", \"frank\", \"fuck\", \"gente\", \"get\", \"go\", \"gra\", \"gracias\", \"gracias\", \"gt\", \"guy\", \"idgaf\", \"l\", \"lavigne\", \"life\", \"like\", \"listen\", \"live\", \"llamar\", \"lmao\", \"lo\", \"locura\", \"look\", \"los\", \"love\", \"make\", \"mas\", \"menos\", \"mensaje\", \"mensaje\", \"mi\", \"mio\", \"miss\", \"money\", \"mood\", \"much\", \"mundo\", \"music\", \"na\", \"nadie\", \"necesita\", \"necesitaba\", \"ningun\", \"nt\", \"objetivo\", \"obstaculo\", \"ocean\", \"okay\", \"one\", \"people\", \"people\", \"por\", \"pudo\", \"q\", \"que\", \"quedarse\", \"quiero\", \"rapido\", \"really\", \"recibir\", \"red\", \"right\", \"rub\", \"run\", \"saben\", \"see\", \"ser\", \"shit\", \"si\", \"sientas\", \"sleep\", \"solo\", \"still\", \"subir\", \"take\", \"talk\", \"te\", \"the\", \"think\", \"time\", \"to\", \"to\", \"u\", \"un\", \"vaina\", \"ver\", \"vida\", \"voy\", \"want\", \"woman\", \"year\", \"you\", \"zone\"]}, \"R\": 30, \"lambda.step\": 0.01, \"plot.opts\": {\"xlab\": \"PC1\", \"ylab\": \"PC2\"}, \"topic.order\": [3, 5, 4, 2, 1]};\n",
       "\n",
       "function LDAvis_load_lib(url, callback){\n",
       "  var s = document.createElement('script');\n",
       "  s.src = url;\n",
       "  s.async = true;\n",
       "  s.onreadystatechange = s.onload = callback;\n",
       "  s.onerror = function(){console.warn(\"failed to load library \" + url);};\n",
       "  document.getElementsByTagName(\"head\")[0].appendChild(s);\n",
       "}\n",
       "\n",
       "if(typeof(LDAvis) !== \"undefined\"){\n",
       "   // already loaded: just create the visualization\n",
       "   !function(LDAvis){\n",
       "       new LDAvis(\"#\" + \"ldavis_el5863758989750409708550306\", ldavis_el5863758989750409708550306_data);\n",
       "   }(LDAvis);\n",
       "}else if(typeof define === \"function\" && define.amd){\n",
       "   // require.js is available: use it to load d3/LDAvis\n",
       "   require.config({paths: {d3: \"https://d3js.org/d3.v5\"}});\n",
       "   require([\"d3\"], function(d3){\n",
       "      window.d3 = d3;\n",
       "      LDAvis_load_lib(\"https://cdn.jsdelivr.net/gh/bmabey/pyLDAvis@3.3.1/pyLDAvis/js/ldavis.v3.0.0.js\", function(){\n",
       "        new LDAvis(\"#\" + \"ldavis_el5863758989750409708550306\", ldavis_el5863758989750409708550306_data);\n",
       "      });\n",
       "    });\n",
       "}else{\n",
       "    // require.js not available: dynamically load d3 & LDAvis\n",
       "    LDAvis_load_lib(\"https://d3js.org/d3.v5.js\", function(){\n",
       "         LDAvis_load_lib(\"https://cdn.jsdelivr.net/gh/bmabey/pyLDAvis@3.3.1/pyLDAvis/js/ldavis.v3.0.0.js\", function(){\n",
       "                 new LDAvis(\"#\" + \"ldavis_el5863758989750409708550306\", ldavis_el5863758989750409708550306_data);\n",
       "            })\n",
       "         });\n",
       "}\n",
       "</script>"
      ],
      "text/plain": [
       "PreparedData(topic_coordinates=              x         y  topics  cluster       Freq\n",
       "topic                                                \n",
       "2      0.126004  0.094526       1        1  21.899446\n",
       "4     -0.198367  0.066284       2        1  21.896521\n",
       "3     -0.001912 -0.185583       3        1  19.960156\n",
       "1      0.038494 -0.001149       4        1  19.031201\n",
       "0      0.035780  0.025922       5        1  17.212676, topic_info=       Term       Freq      Total Category  logprob  loglift\n",
       "5         I  34.000000  34.000000  Default  30.0000  30.0000\n",
       "42     love  22.000000  22.000000  Default  29.0000  29.0000\n",
       "137     que  20.000000  20.000000  Default  28.0000  28.0000\n",
       "1726  claim  14.000000  14.000000  Default  27.0000  27.0000\n",
       "935     los  15.000000  15.000000  Default  26.0000  26.0000\n",
       "...     ...        ...        ...      ...      ...      ...\n",
       "1700  Girls   1.915179   2.462405   Topic5  -5.6305   1.5082\n",
       "1701    guy   1.915179   2.462405   Topic5  -5.6305   1.5082\n",
       "1702  sleep   1.915179   2.462405   Topic5  -5.6305   1.5082\n",
       "1703   zone   1.915179   2.462405   Topic5  -5.6305   1.5082\n",
       "803      en   2.377364   3.196787   Topic5  -5.4143   1.4634\n",
       "\n",
       "[192 rows x 6 columns], token_table=      Topic      Freq   Term\n",
       "term                        \n",
       "1478      5  0.738114       \n",
       "583       1  0.185664      A\n",
       "583       3  0.742656      A\n",
       "1725      4  0.902131    Asi\n",
       "534       3  0.943928   Dios\n",
       "...     ...       ...    ...\n",
       "293       4  0.840526   want\n",
       "428       1  0.777816  woman\n",
       "1173      1  0.941177   year\n",
       "294       4  0.927333    you\n",
       "1703      5  0.812214   zone\n",
       "\n",
       "[168 rows x 3 columns], R=30, lambda_step=0.01, plot_opts={'xlab': 'PC1', 'ylab': 'PC2'}, topic_order=[3, 5, 4, 2, 1])"
      ]
     },
     "execution_count": 28,
     "metadata": {},
     "output_type": "execute_result"
    }
   ],
   "source": [
    "pyLDAvis.enable_notebook()\n",
    "vis = gensimvis.prepare(lda_model, corpus, id2word)\n",
    "vis"
   ]
  },
  {
   "cell_type": "code",
   "execution_count": 359,
   "id": "f70426e8",
   "metadata": {},
   "outputs": [
    {
     "data": {
      "text/plain": [
       "{'de': 0,\n",
       " 'No': 1,\n",
       " 'a': 2,\n",
       " 'Aviso': 3,\n",
       " 'Bayamon': 4,\n",
       " 'Nuevo': 5,\n",
       " 'Barrio': 6,\n",
       " 'El': 7,\n",
       " 'la': 8,\n",
       " 'magnitud': 9,\n",
       " 'Ml': 10,\n",
       " 'Sentido': 11,\n",
       " 'Km': 12,\n",
       " 'Prof': 13,\n",
       " 'Mag': 14,\n",
       " 'PRELIMINAR': 15,\n",
       " 'Max': 16,\n",
       " 'Puerto': 17,\n",
       " 'Rico': 18,\n",
       " 'Int': 19,\n",
       " 'temblor': 20,\n",
       " 'PR': 21,\n",
       " 'enero2020': 22,\n",
       " 'PM': 23,\n",
       " 'que': 24,\n",
       " 'mas': 25,\n",
       " 'tsunami': 26,\n",
       " 'be': 27,\n",
       " 'sabado': 28,\n",
       " 'luz': 29,\n",
       " 'servicio': 30,\n",
       " 'hoy': 31,\n",
       " 'La': 32,\n",
       " 'Gracias': 33,\n",
       " 'los': 34,\n",
       " 'Wanda': 35,\n",
       " 'Hoy': 36,\n",
       " 'mayor': 37,\n",
       " 'mejor': 38,\n",
       " 'ser': 39,\n",
       " 'el': 40,\n",
       " 'vez': 41,\n",
       " 'Que': 42,\n",
       " 'Mayaguez': 43,\n",
       " 'gente': 44,\n",
       " 'fuerte': 45,\n",
       " 'ver': 46,\n",
       " 'si': 47,\n",
       " 'l': 48,\n",
       " 'Mas': 49,\n",
       " 'cada': 50,\n",
       " 'ir': 51,\n",
       " 'chicharra': 52,\n",
       " 'con': 53,\n",
       " 'preliminar': 54,\n",
       " 'Islas': 55,\n",
       " 'Advertencia': 56,\n",
       " 'Vigilancia': 57,\n",
       " 'no': 58,\n",
       " 'Los': 59,\n",
       " 'ACTUALIZADA': 60,\n",
       " 'temblores': 61,\n",
       " 'pandemia': 62,\n",
       " 'Lo': 63,\n",
       " 'Enero': 64,\n",
       " 'tan': 65,\n",
       " 'espero': 66,\n",
       " 'isla': 67,\n",
       " 'Hola': 68,\n",
       " 'cierto': 69,\n",
       " 'Pescao': 70,\n",
       " 'bien': 71,\n",
       " 'vi': 72,\n",
       " 'NO': 73,\n",
       " 'entrada': 74,\n",
       " 've': 75,\n",
       " 'pm': 76,\n",
       " 'pico': 77,\n",
       " 'TEMBLOR': 78,\n",
       " 'IV': 79,\n",
       " 'solamente': 80,\n",
       " 'malo': 81,\n",
       " 'risa': 82,\n",
       " 'muriendo': 83,\n",
       " 'dia': 84,\n",
       " 'Molinelli': 85,\n",
       " 'va': 86,\n",
       " 'quedense': 87,\n",
       " 'seguridad': 88,\n",
       " 'por': 89,\n",
       " 'mia': 90,\n",
       " 'sus': 91,\n",
       " 'Jajajajaja': 92,\n",
       " 'Un': 93,\n",
       " 'pa': 94,\n",
       " 'Yauco': 95,\n",
       " 'PTWC': 96,\n",
       " 'dias': 97,\n",
       " '0236': 98,\n",
       " 'V': 99,\n",
       " 'Ponce': 100,\n",
       " 'Adverten': 101,\n",
       " 'Temblor': 102,\n",
       " 'danos': 103,\n",
       " 'Es': 104,\n",
       " 'duermo': 105,\n",
       " 'I': 106,\n",
       " 'don': 107,\n",
       " 'slip': 108,\n",
       " 'tudey': 109,\n",
       " 'Virgenes': 110,\n",
       " 'M': 111,\n",
       " 'Y': 112,\n",
       " 'base': 113,\n",
       " 'estadounidenses': 114,\n",
       " 'casa': 115,\n",
       " 'consiencia': 116,\n",
       " 'viene': 117,\n",
       " 'Tomen': 118,\n",
       " 'A': 119,\n",
       " 'vamos': 120,\n",
       " 'dicen': 121,\n",
       " 'nunca': 122,\n",
       " 'ayer': 123,\n",
       " 'Jose': 124,\n",
       " 'manana': 125,\n",
       " 'Mi': 126,\n",
       " 'En': 127,\n",
       " 'principal': 128,\n",
       " 'un': 129,\n",
       " 'Dos': 130,\n",
       " 'las': 131,\n",
       " 'pediatra': 132,\n",
       " 'San': 133,\n",
       " 'luego': 134,\n",
       " 'empleados': 135,\n",
       " 'supermercados': 136,\n",
       " 'farmacias': 137,\n",
       " 'seguir': 138,\n",
       " 'Hagamos': 139,\n",
       " 'gracias': 140,\n",
       " 'noche': 141,\n",
       " 'trafico': 142,\n",
       " 'Ayuda': 143,\n",
       " 'profesional': 144,\n",
       " 'salud': 145,\n",
       " 'seria': 146}"
      ]
     },
     "execution_count": 359,
     "metadata": {},
     "output_type": "execute_result"
    }
   ],
   "source": [
    "word2vec_model.wv.key_to_index"
   ]
  },
  {
   "cell_type": "code",
   "execution_count": null,
   "id": "82ce588a",
   "metadata": {},
   "outputs": [],
   "source": []
  }
 ],
 "metadata": {
  "kernelspec": {
   "display_name": "Python 3",
   "language": "python",
   "name": "python3"
  },
  "language_info": {
   "codemirror_mode": {
    "name": "ipython",
    "version": 3
   },
   "file_extension": ".py",
   "mimetype": "text/x-python",
   "name": "python",
   "nbconvert_exporter": "python",
   "pygments_lexer": "ipython3",
   "version": "3.9.2"
  },
  "toc": {
   "base_numbering": 1,
   "nav_menu": {},
   "number_sections": true,
   "sideBar": true,
   "skip_h1_title": false,
   "title_cell": "Table of Contents",
   "title_sidebar": "Contents",
   "toc_cell": true,
   "toc_position": {},
   "toc_section_display": true,
   "toc_window_display": false
  }
 },
 "nbformat": 4,
 "nbformat_minor": 5
}
